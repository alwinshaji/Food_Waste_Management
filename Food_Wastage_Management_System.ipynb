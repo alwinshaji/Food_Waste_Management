{
 "cells": [
  {
   "cell_type": "markdown",
   "metadata": {
    "id": "vncDsAP0Gaoa"
   },
   "source": [
    "# **Project Name**    - Local Food Wastage Management System\n",
    "\n",
    "\n",
    "\n"
   ]
  },
  {
   "cell_type": "markdown",
   "metadata": {
    "id": "beRrZCGUAJYm"
   },
   "source": [
    "##### **Project Type**    - EDA\n",
    "##### **Contribution**    - Individual\n",
    "##### **Name -**            Alwin Shaji\n"
   ]
  },
  {
   "cell_type": "markdown",
   "metadata": {
    "id": "FJNUwmbgGyua"
   },
   "source": [
    "# **Project Summary**"
   ]
  },
  {
   "cell_type": "markdown",
   "metadata": {
    "id": "F6v_1wHtG2nS"
   },
   "source": [
    "Food wastage remains one of the most pressing challenges worldwide, with restaurants, grocery stores, and households discarding significant amounts of edible food each day while many individuals and communities struggle with food insecurity. This project aims to address that gap at a local level by building a Local Food Wastage Management System — a digital platform where surplus food providers can connect directly with those in need. The system will enable restaurants, grocery stores, and other providers to list surplus food items, which can then be claimed by NGOs, community centers or individuals. The core of the system will be a structured SQLite database storing details about food providers, receivers, available food listings, and claims made. This database will be powered by Python for data handling and integrated into a Streamlit-based interface for user-friendly interaction. Through this platform, users will be able to view available food, filter results by city, provider, or food type, and even carry out CRUD (Create, Read, Update, Delete) operations to keep listings accurate and up-to-date.\n",
    "\n",
    "The project will follow a step-by-step approach, starting with data preparation. Four datasets — providers, receivers, food listings and claims which will be cleaned and standardized to ensure data accuracy and consistency. These datasets will then be loaded into a relational database with well-defined tables and foreign key relationships. Once the database is ready, a set of 15+ SQL queries will be developed to answer specific analytical questions, such as identifying which providers contribute the most, which cities have the highest number of food listings, or what percentage of food claims are completed versus pending or canceled. These queries will provide insights into food distribution patterns, demand hotspots, and wastage trends, allowing for informed decision-making and potential optimization of food redistribution efforts.\n",
    "\n",
    "On top of the database and analysis, the Streamlit application will serve as the main interface for users. The app will allow providers to list new food items, receivers to claim available items, and administrators to manage records through CRUD operations. It will also display interactive charts and tables generated from SQL queries, helping visualize key metrics such as the most popular meal types, the total quantity of food available and trends in claims over time. By combining Python, SQL, and Streamlit, the project will not only offer real-time operational capabilities but also deliver valuable analytical insights through data visualization. In doing so, the platform will create a structured, accessible way to reduce food wastage, improve local food distribution, and ultimately contribute to social good. The final deliverables will include the complete SQLite database, a functional Streamlit web application, SQL query outputs and visual analysis reports — all designed to be both practical for daily use and scalable for future expansion.\n",
    "\n"
   ]
  },
  {
   "cell_type": "markdown",
   "metadata": {
    "id": "w6K7xa23Elo4"
   },
   "source": [
    "# **GitHub Link -**"
   ]
  },
  {
   "cell_type": "markdown",
   "metadata": {
    "id": "h1o69JH3Eqqn"
   },
   "source": [
    "Provide your GitHub Link here."
   ]
  },
  {
   "cell_type": "markdown",
   "metadata": {
    "id": "yQaldy8SH6Dl"
   },
   "source": [
    "# **Problem Statement**\n"
   ]
  },
  {
   "cell_type": "markdown",
   "metadata": {
    "id": "DpeJGUA3kjGy"
   },
   "source": [
    "Food wastage is a major challenge, with restaurants and households often discarding surplus food while many people around them face hunger. This project aims to create a Local Food Wastage Management System that connects those who have extra food with those who need it. Using a SQL database to store details of available food and locations and a Streamlit-based application for easy interaction, filtering, CRUD operations and visualization, the system will make it simple for providers to share surplus food and for NGOs or individuals to claim it, helping reduce waste and support the community.\r\n"
   ]
  },
  {
   "cell_type": "markdown",
   "metadata": {
    "id": "PH-0ReGfmX4f"
   },
   "source": [
    "#### **Define Your Business Objective?**"
   ]
  },
  {
   "cell_type": "markdown",
   "metadata": {
    "id": "PhDvGCAqmjP1"
   },
   "source": [
    "The business objective of this project is to build an efficient and accessible platform that bridges the gap between surplus food providers and those in need, reducing food wastage while addressing local food insecurity. By enabling restaurants, grocery stores and individuals to list surplus food, and allowing NGOs or receivers to easily find and claim it, the system promotes timely redistribution of edible food. Leveraging SQL for structured data management and Streamlit for an intuitive interface, the platform will not only streamline the process of connecting providers and receivers but also generate insights to guide better planning, resource allocation, and waste reduction strategies.\r\n"
   ]
  },
  {
   "cell_type": "markdown",
   "metadata": {
    "id": "mDgbUHAGgjLW",
    "jp-MarkdownHeadingCollapsed": true
   },
   "source": [
    "# **General Guidelines** : -  "
   ]
  },
  {
   "cell_type": "markdown",
   "metadata": {
    "id": "ZrxVaUj-hHfC"
   },
   "source": [
    "1.   Well-structured, formatted, and commented code is required.\n",
    "2.   Exception Handling, Production Grade Code & Deployment Ready Code will be a plus. Those students will be awarded some additional credits.\n",
    "     \n",
    "     The additional credits will have advantages over other students during Star Student selection.\n",
    "       \n",
    "             [ Note: - Deployment Ready Code is defined as, the whole .ipynb notebook should be executable in one go\n",
    "                       without a single error logged. ]\n",
    "\n",
    "3.   Each and every logic should have proper comments.\n",
    "4. You may add as many number of charts you want. Make Sure for each and every chart the following format should be answered.\n",
    "        \n",
    "\n",
    "```\n",
    "# Chart visualization code\n",
    "```\n",
    "            \n",
    "\n",
    "*   Why did you pick the specific chart?\n",
    "*   What is/are the insight(s) found from the chart?\n",
    "* Will the gained insights help creating a positive business impact?\n",
    "Are there any insights that lead to negative growth? Justify with specific reason.\n",
    "\n",
    "5. You have to create at least 20 logical & meaningful charts having important insights.\n",
    "\n",
    "\n",
    "[ Hints : - Do the Vizualization in  a structured way while following \"UBM\" Rule.\n",
    "\n",
    "U - Univariate Analysis,\n",
    "\n",
    "B - Bivariate Analysis (Numerical - Categorical, Numerical - Numerical, Categorical - Categorical)\n",
    "\n",
    "M - Multivariate Analysis\n",
    " ]\n",
    "\n",
    "\n",
    "\n"
   ]
  },
  {
   "cell_type": "markdown",
   "metadata": {
    "id": "O_i_v8NEhb9l"
   },
   "source": [
    "# ***Let's Begin !***"
   ]
  },
  {
   "cell_type": "markdown",
   "metadata": {
    "id": "HhfV-JJviCcP"
   },
   "source": [
    "## ***1. Know Your Data***"
   ]
  },
  {
   "cell_type": "markdown",
   "metadata": {
    "id": "Y3lxredqlCYt"
   },
   "source": [
    "### Import Libraries"
   ]
  },
  {
   "cell_type": "code",
   "execution_count": 1,
   "metadata": {
    "id": "M8Vqi-pPk-HR"
   },
   "outputs": [],
   "source": [
    "# Data handling\n",
    "import pandas as pd\n",
    "import numpy as np\n",
    "\n",
    "# Database\n",
    "import sqlite3\n",
    "\n",
    "# Visualization\n",
    "import matplotlib.pyplot as plt\n",
    "import seaborn as sns\n",
    "\n",
    "import streamlit as st\n"
   ]
  },
  {
   "cell_type": "markdown",
   "metadata": {
    "id": "3RnN4peoiCZX"
   },
   "source": [
    "### Dataset Loading"
   ]
  },
  {
   "cell_type": "code",
   "execution_count": 2,
   "metadata": {},
   "outputs": [
    {
     "name": "stdout",
     "output_type": "stream",
     "text": [
      "/home/9d9bd3fb-47ec-4475-b976-d851654af395/Local Food Wastage Management System\n"
     ]
    }
   ],
   "source": [
    "os.chdir(\"Local Food Wastage Management System\")\n",
    "print(os.getcwd()) \n"
   ]
  },
  {
   "cell_type": "code",
   "execution_count": 3,
   "metadata": {
    "id": "4CkvbW_SlZ_R"
   },
   "outputs": [],
   "source": [
    "# Load datasets\n",
    "providers_df = pd.read_csv(\"providers_data.csv\")\n",
    "receivers_df = pd.read_csv(\"receivers_data.csv\")\n",
    "food_listings_df = pd.read_csv(\"food_listings_data.csv\")\n",
    "claims_df = pd.read_csv(\"claims_data.csv\")"
   ]
  },
  {
   "cell_type": "markdown",
   "metadata": {
    "id": "x71ZqKXriCWQ"
   },
   "source": [
    "### Dataset First View"
   ]
  },
  {
   "cell_type": "code",
   "execution_count": 4,
   "metadata": {
    "id": "LWNFOSvLl09H"
   },
   "outputs": [
    {
     "name": "stdout",
     "output_type": "stream",
     "text": [
      "Providers Dataset:\n"
     ]
    },
    {
     "data": {
      "text/html": [
       "<div>\n",
       "<style scoped>\n",
       "    .dataframe tbody tr th:only-of-type {\n",
       "        vertical-align: middle;\n",
       "    }\n",
       "\n",
       "    .dataframe tbody tr th {\n",
       "        vertical-align: top;\n",
       "    }\n",
       "\n",
       "    .dataframe thead th {\n",
       "        text-align: right;\n",
       "    }\n",
       "</style>\n",
       "<table border=\"1\" class=\"dataframe\">\n",
       "  <thead>\n",
       "    <tr style=\"text-align: right;\">\n",
       "      <th></th>\n",
       "      <th>Provider_ID</th>\n",
       "      <th>Name</th>\n",
       "      <th>Type</th>\n",
       "      <th>Address</th>\n",
       "      <th>City</th>\n",
       "      <th>Contact</th>\n",
       "    </tr>\n",
       "  </thead>\n",
       "  <tbody>\n",
       "    <tr>\n",
       "      <th>0</th>\n",
       "      <td>1</td>\n",
       "      <td>Gonzales-Cochran</td>\n",
       "      <td>Supermarket</td>\n",
       "      <td>74347 Christopher Extensions\\nAndreamouth, OK ...</td>\n",
       "      <td>New Jessica</td>\n",
       "      <td>+1-600-220-0480</td>\n",
       "    </tr>\n",
       "    <tr>\n",
       "      <th>1</th>\n",
       "      <td>2</td>\n",
       "      <td>Nielsen, Johnson and Fuller</td>\n",
       "      <td>Grocery Store</td>\n",
       "      <td>91228 Hanson Stream\\nWelchtown, OR 27136</td>\n",
       "      <td>East Sheena</td>\n",
       "      <td>+1-925-283-8901x6297</td>\n",
       "    </tr>\n",
       "    <tr>\n",
       "      <th>2</th>\n",
       "      <td>3</td>\n",
       "      <td>Miller-Black</td>\n",
       "      <td>Supermarket</td>\n",
       "      <td>561 Martinez Point Suite 507\\nGuzmanchester, W...</td>\n",
       "      <td>Lake Jesusview</td>\n",
       "      <td>001-517-295-2206</td>\n",
       "    </tr>\n",
       "    <tr>\n",
       "      <th>3</th>\n",
       "      <td>4</td>\n",
       "      <td>Clark, Prince and Williams</td>\n",
       "      <td>Grocery Store</td>\n",
       "      <td>467 Bell Trail Suite 409\\nPort Jesus, IA 61188</td>\n",
       "      <td>Mendezmouth</td>\n",
       "      <td>556.944.8935x401</td>\n",
       "    </tr>\n",
       "    <tr>\n",
       "      <th>4</th>\n",
       "      <td>5</td>\n",
       "      <td>Coleman-Farley</td>\n",
       "      <td>Grocery Store</td>\n",
       "      <td>078 Matthew Creek Apt. 319\\nSaraborough, MA 53978</td>\n",
       "      <td>Valentineside</td>\n",
       "      <td>193.714.6577</td>\n",
       "    </tr>\n",
       "  </tbody>\n",
       "</table>\n",
       "</div>"
      ],
      "text/plain": [
       "   Provider_ID                         Name           Type  \\\n",
       "0            1             Gonzales-Cochran    Supermarket   \n",
       "1            2  Nielsen, Johnson and Fuller  Grocery Store   \n",
       "2            3                 Miller-Black    Supermarket   \n",
       "3            4   Clark, Prince and Williams  Grocery Store   \n",
       "4            5               Coleman-Farley  Grocery Store   \n",
       "\n",
       "                                             Address            City  \\\n",
       "0  74347 Christopher Extensions\\nAndreamouth, OK ...     New Jessica   \n",
       "1           91228 Hanson Stream\\nWelchtown, OR 27136     East Sheena   \n",
       "2  561 Martinez Point Suite 507\\nGuzmanchester, W...  Lake Jesusview   \n",
       "3     467 Bell Trail Suite 409\\nPort Jesus, IA 61188     Mendezmouth   \n",
       "4  078 Matthew Creek Apt. 319\\nSaraborough, MA 53978   Valentineside   \n",
       "\n",
       "                Contact  \n",
       "0       +1-600-220-0480  \n",
       "1  +1-925-283-8901x6297  \n",
       "2      001-517-295-2206  \n",
       "3      556.944.8935x401  \n",
       "4          193.714.6577  "
      ]
     },
     "metadata": {},
     "output_type": "display_data"
    },
    {
     "name": "stdout",
     "output_type": "stream",
     "text": [
      "\n",
      "Receivers Dataset:\n"
     ]
    },
    {
     "data": {
      "text/html": [
       "<div>\n",
       "<style scoped>\n",
       "    .dataframe tbody tr th:only-of-type {\n",
       "        vertical-align: middle;\n",
       "    }\n",
       "\n",
       "    .dataframe tbody tr th {\n",
       "        vertical-align: top;\n",
       "    }\n",
       "\n",
       "    .dataframe thead th {\n",
       "        text-align: right;\n",
       "    }\n",
       "</style>\n",
       "<table border=\"1\" class=\"dataframe\">\n",
       "  <thead>\n",
       "    <tr style=\"text-align: right;\">\n",
       "      <th></th>\n",
       "      <th>Receiver_ID</th>\n",
       "      <th>Name</th>\n",
       "      <th>Type</th>\n",
       "      <th>City</th>\n",
       "      <th>Contact</th>\n",
       "    </tr>\n",
       "  </thead>\n",
       "  <tbody>\n",
       "    <tr>\n",
       "      <th>0</th>\n",
       "      <td>1</td>\n",
       "      <td>Donald Gomez</td>\n",
       "      <td>Shelter</td>\n",
       "      <td>Port Carlburgh</td>\n",
       "      <td>(955)922-5295</td>\n",
       "    </tr>\n",
       "    <tr>\n",
       "      <th>1</th>\n",
       "      <td>2</td>\n",
       "      <td>Laurie Ramos</td>\n",
       "      <td>Individual</td>\n",
       "      <td>Lewisburgh</td>\n",
       "      <td>761.042.1570</td>\n",
       "    </tr>\n",
       "    <tr>\n",
       "      <th>2</th>\n",
       "      <td>3</td>\n",
       "      <td>Ashley Mckee</td>\n",
       "      <td>NGO</td>\n",
       "      <td>South Randalltown</td>\n",
       "      <td>691-023-0094x856</td>\n",
       "    </tr>\n",
       "    <tr>\n",
       "      <th>3</th>\n",
       "      <td>4</td>\n",
       "      <td>Erika Rose</td>\n",
       "      <td>NGO</td>\n",
       "      <td>South Shaneville</td>\n",
       "      <td>8296491111</td>\n",
       "    </tr>\n",
       "    <tr>\n",
       "      <th>4</th>\n",
       "      <td>5</td>\n",
       "      <td>John Romero</td>\n",
       "      <td>Individual</td>\n",
       "      <td>Bakerport</td>\n",
       "      <td>067.491.0154</td>\n",
       "    </tr>\n",
       "  </tbody>\n",
       "</table>\n",
       "</div>"
      ],
      "text/plain": [
       "   Receiver_ID          Name        Type               City           Contact\n",
       "0            1  Donald Gomez     Shelter     Port Carlburgh     (955)922-5295\n",
       "1            2  Laurie Ramos  Individual         Lewisburgh      761.042.1570\n",
       "2            3  Ashley Mckee         NGO  South Randalltown  691-023-0094x856\n",
       "3            4    Erika Rose         NGO   South Shaneville        8296491111\n",
       "4            5   John Romero  Individual          Bakerport      067.491.0154"
      ]
     },
     "metadata": {},
     "output_type": "display_data"
    },
    {
     "name": "stdout",
     "output_type": "stream",
     "text": [
      "\n",
      "Food Listings Dataset:\n"
     ]
    },
    {
     "data": {
      "text/html": [
       "<div>\n",
       "<style scoped>\n",
       "    .dataframe tbody tr th:only-of-type {\n",
       "        vertical-align: middle;\n",
       "    }\n",
       "\n",
       "    .dataframe tbody tr th {\n",
       "        vertical-align: top;\n",
       "    }\n",
       "\n",
       "    .dataframe thead th {\n",
       "        text-align: right;\n",
       "    }\n",
       "</style>\n",
       "<table border=\"1\" class=\"dataframe\">\n",
       "  <thead>\n",
       "    <tr style=\"text-align: right;\">\n",
       "      <th></th>\n",
       "      <th>Food_ID</th>\n",
       "      <th>Food_Name</th>\n",
       "      <th>Quantity</th>\n",
       "      <th>Expiry_Date</th>\n",
       "      <th>Provider_ID</th>\n",
       "      <th>Provider_Type</th>\n",
       "      <th>Location</th>\n",
       "      <th>Food_Type</th>\n",
       "      <th>Meal_Type</th>\n",
       "    </tr>\n",
       "  </thead>\n",
       "  <tbody>\n",
       "    <tr>\n",
       "      <th>0</th>\n",
       "      <td>1</td>\n",
       "      <td>Bread</td>\n",
       "      <td>43</td>\n",
       "      <td>3/17/2025</td>\n",
       "      <td>110</td>\n",
       "      <td>Grocery Store</td>\n",
       "      <td>South Kellyville</td>\n",
       "      <td>Non-Vegetarian</td>\n",
       "      <td>Breakfast</td>\n",
       "    </tr>\n",
       "    <tr>\n",
       "      <th>1</th>\n",
       "      <td>2</td>\n",
       "      <td>Soup</td>\n",
       "      <td>22</td>\n",
       "      <td>3/24/2025</td>\n",
       "      <td>791</td>\n",
       "      <td>Grocery Store</td>\n",
       "      <td>West James</td>\n",
       "      <td>Non-Vegetarian</td>\n",
       "      <td>Dinner</td>\n",
       "    </tr>\n",
       "    <tr>\n",
       "      <th>2</th>\n",
       "      <td>3</td>\n",
       "      <td>Fruits</td>\n",
       "      <td>46</td>\n",
       "      <td>3/28/2025</td>\n",
       "      <td>478</td>\n",
       "      <td>Catering Service</td>\n",
       "      <td>Lake Regina</td>\n",
       "      <td>Vegan</td>\n",
       "      <td>Breakfast</td>\n",
       "    </tr>\n",
       "    <tr>\n",
       "      <th>3</th>\n",
       "      <td>4</td>\n",
       "      <td>Fruits</td>\n",
       "      <td>15</td>\n",
       "      <td>3/16/2025</td>\n",
       "      <td>930</td>\n",
       "      <td>Restaurant</td>\n",
       "      <td>Kellytown</td>\n",
       "      <td>Vegan</td>\n",
       "      <td>Lunch</td>\n",
       "    </tr>\n",
       "    <tr>\n",
       "      <th>4</th>\n",
       "      <td>5</td>\n",
       "      <td>Soup</td>\n",
       "      <td>14</td>\n",
       "      <td>3/19/2025</td>\n",
       "      <td>279</td>\n",
       "      <td>Restaurant</td>\n",
       "      <td>Garciaport</td>\n",
       "      <td>Vegan</td>\n",
       "      <td>Dinner</td>\n",
       "    </tr>\n",
       "  </tbody>\n",
       "</table>\n",
       "</div>"
      ],
      "text/plain": [
       "   Food_ID Food_Name  Quantity Expiry_Date  Provider_ID     Provider_Type  \\\n",
       "0        1     Bread        43   3/17/2025          110     Grocery Store   \n",
       "1        2      Soup        22   3/24/2025          791     Grocery Store   \n",
       "2        3    Fruits        46   3/28/2025          478  Catering Service   \n",
       "3        4    Fruits        15   3/16/2025          930        Restaurant   \n",
       "4        5      Soup        14   3/19/2025          279        Restaurant   \n",
       "\n",
       "           Location       Food_Type  Meal_Type  \n",
       "0  South Kellyville  Non-Vegetarian  Breakfast  \n",
       "1        West James  Non-Vegetarian     Dinner  \n",
       "2       Lake Regina           Vegan  Breakfast  \n",
       "3         Kellytown           Vegan      Lunch  \n",
       "4        Garciaport           Vegan     Dinner  "
      ]
     },
     "metadata": {},
     "output_type": "display_data"
    },
    {
     "name": "stdout",
     "output_type": "stream",
     "text": [
      "\n",
      "Claims Dataset:\n"
     ]
    },
    {
     "data": {
      "text/html": [
       "<div>\n",
       "<style scoped>\n",
       "    .dataframe tbody tr th:only-of-type {\n",
       "        vertical-align: middle;\n",
       "    }\n",
       "\n",
       "    .dataframe tbody tr th {\n",
       "        vertical-align: top;\n",
       "    }\n",
       "\n",
       "    .dataframe thead th {\n",
       "        text-align: right;\n",
       "    }\n",
       "</style>\n",
       "<table border=\"1\" class=\"dataframe\">\n",
       "  <thead>\n",
       "    <tr style=\"text-align: right;\">\n",
       "      <th></th>\n",
       "      <th>Claim_ID</th>\n",
       "      <th>Food_ID</th>\n",
       "      <th>Receiver_ID</th>\n",
       "      <th>Status</th>\n",
       "      <th>Timestamp</th>\n",
       "    </tr>\n",
       "  </thead>\n",
       "  <tbody>\n",
       "    <tr>\n",
       "      <th>0</th>\n",
       "      <td>1</td>\n",
       "      <td>164</td>\n",
       "      <td>908</td>\n",
       "      <td>Pending</td>\n",
       "      <td>3/5/2025 5:26</td>\n",
       "    </tr>\n",
       "    <tr>\n",
       "      <th>1</th>\n",
       "      <td>2</td>\n",
       "      <td>353</td>\n",
       "      <td>391</td>\n",
       "      <td>Cancelled</td>\n",
       "      <td>3/11/2025 10:24</td>\n",
       "    </tr>\n",
       "    <tr>\n",
       "      <th>2</th>\n",
       "      <td>3</td>\n",
       "      <td>626</td>\n",
       "      <td>492</td>\n",
       "      <td>Completed</td>\n",
       "      <td>3/21/2025 0:59</td>\n",
       "    </tr>\n",
       "    <tr>\n",
       "      <th>3</th>\n",
       "      <td>4</td>\n",
       "      <td>61</td>\n",
       "      <td>933</td>\n",
       "      <td>Cancelled</td>\n",
       "      <td>3/4/2025 9:08</td>\n",
       "    </tr>\n",
       "    <tr>\n",
       "      <th>4</th>\n",
       "      <td>5</td>\n",
       "      <td>345</td>\n",
       "      <td>229</td>\n",
       "      <td>Pending</td>\n",
       "      <td>3/14/2025 15:17</td>\n",
       "    </tr>\n",
       "  </tbody>\n",
       "</table>\n",
       "</div>"
      ],
      "text/plain": [
       "   Claim_ID  Food_ID  Receiver_ID     Status        Timestamp\n",
       "0         1      164          908    Pending    3/5/2025 5:26\n",
       "1         2      353          391  Cancelled  3/11/2025 10:24\n",
       "2         3      626          492  Completed   3/21/2025 0:59\n",
       "3         4       61          933  Cancelled    3/4/2025 9:08\n",
       "4         5      345          229    Pending  3/14/2025 15:17"
      ]
     },
     "metadata": {},
     "output_type": "display_data"
    }
   ],
   "source": [
    "\n",
    "# Preview first few rows of each dataset\n",
    "print(\"Providers Dataset:\")\n",
    "display(providers_df.head())\n",
    "\n",
    "print(\"\\nReceivers Dataset:\")\n",
    "display(receivers_df.head())\n",
    "\n",
    "print(\"\\nFood Listings Dataset:\")\n",
    "display(food_listings_df.head())\n",
    "\n",
    "print(\"\\nClaims Dataset:\")\n",
    "display(claims_df.head())\n"
   ]
  },
  {
   "cell_type": "markdown",
   "metadata": {
    "id": "7hBIi_osiCS2"
   },
   "source": [
    "### Dataset Rows & Columns count"
   ]
  },
  {
   "cell_type": "code",
   "execution_count": 5,
   "metadata": {
    "id": "Kllu7SJgmLij"
   },
   "outputs": [
    {
     "name": "stdout",
     "output_type": "stream",
     "text": [
      "Providers: 1000 rows, 6 columns\n",
      "Receivers: 1000 rows, 5 columns\n",
      "Food Listings: 1000 rows, 9 columns\n",
      "Claims: 1000 rows, 5 columns\n"
     ]
    }
   ],
   "source": [
    "# Function to print shape info\n",
    "def dataset_shape_info(df, name):\n",
    "    print(f\"{name}: {df.shape[0]} rows, {df.shape[1]} columns\")\n",
    "\n",
    "dataset_shape_info(providers_df, \"Providers\")\n",
    "dataset_shape_info(receivers_df, \"Receivers\")\n",
    "dataset_shape_info(food_listings_df, \"Food Listings\")\n",
    "dataset_shape_info(claims_df, \"Claims\")\n"
   ]
  },
  {
   "cell_type": "markdown",
   "metadata": {
    "id": "JlHwYmJAmNHm"
   },
   "source": [
    "### Dataset Information"
   ]
  },
  {
   "cell_type": "code",
   "execution_count": 6,
   "metadata": {
    "id": "e9hRXRi6meOf"
   },
   "outputs": [
    {
     "name": "stdout",
     "output_type": "stream",
     "text": [
      "\n",
      "Providers Info:\n",
      "<class 'pandas.core.frame.DataFrame'>\n",
      "RangeIndex: 1000 entries, 0 to 999\n",
      "Data columns (total 6 columns):\n",
      " #   Column       Non-Null Count  Dtype \n",
      "---  ------       --------------  ----- \n",
      " 0   Provider_ID  1000 non-null   int64 \n",
      " 1   Name         1000 non-null   object\n",
      " 2   Type         1000 non-null   object\n",
      " 3   Address      1000 non-null   object\n",
      " 4   City         1000 non-null   object\n",
      " 5   Contact      1000 non-null   object\n",
      "dtypes: int64(1), object(5)\n",
      "memory usage: 47.0+ KB\n",
      "None\n",
      "\n",
      "Receivers Info:\n",
      "<class 'pandas.core.frame.DataFrame'>\n",
      "RangeIndex: 1000 entries, 0 to 999\n",
      "Data columns (total 5 columns):\n",
      " #   Column       Non-Null Count  Dtype \n",
      "---  ------       --------------  ----- \n",
      " 0   Receiver_ID  1000 non-null   int64 \n",
      " 1   Name         1000 non-null   object\n",
      " 2   Type         1000 non-null   object\n",
      " 3   City         1000 non-null   object\n",
      " 4   Contact      1000 non-null   object\n",
      "dtypes: int64(1), object(4)\n",
      "memory usage: 39.2+ KB\n",
      "None\n",
      "\n",
      "Food Listings Info:\n",
      "<class 'pandas.core.frame.DataFrame'>\n",
      "RangeIndex: 1000 entries, 0 to 999\n",
      "Data columns (total 9 columns):\n",
      " #   Column         Non-Null Count  Dtype \n",
      "---  ------         --------------  ----- \n",
      " 0   Food_ID        1000 non-null   int64 \n",
      " 1   Food_Name      1000 non-null   object\n",
      " 2   Quantity       1000 non-null   int64 \n",
      " 3   Expiry_Date    1000 non-null   object\n",
      " 4   Provider_ID    1000 non-null   int64 \n",
      " 5   Provider_Type  1000 non-null   object\n",
      " 6   Location       1000 non-null   object\n",
      " 7   Food_Type      1000 non-null   object\n",
      " 8   Meal_Type      1000 non-null   object\n",
      "dtypes: int64(3), object(6)\n",
      "memory usage: 70.4+ KB\n",
      "None\n",
      "\n",
      "Claims Info:\n",
      "<class 'pandas.core.frame.DataFrame'>\n",
      "RangeIndex: 1000 entries, 0 to 999\n",
      "Data columns (total 5 columns):\n",
      " #   Column       Non-Null Count  Dtype \n",
      "---  ------       --------------  ----- \n",
      " 0   Claim_ID     1000 non-null   int64 \n",
      " 1   Food_ID      1000 non-null   int64 \n",
      " 2   Receiver_ID  1000 non-null   int64 \n",
      " 3   Status       1000 non-null   object\n",
      " 4   Timestamp    1000 non-null   object\n",
      "dtypes: int64(3), object(2)\n",
      "memory usage: 39.2+ KB\n",
      "None\n"
     ]
    }
   ],
   "source": [
    "\n",
    "# Check basic info\n",
    "print(\"\\nProviders Info:\")\n",
    "print(providers_df.info())\n",
    "\n",
    "print(\"\\nReceivers Info:\")\n",
    "print(receivers_df.info())\n",
    "\n",
    "print(\"\\nFood Listings Info:\")\n",
    "print(food_listings_df.info())\n",
    "\n",
    "print(\"\\nClaims Info:\")\n",
    "print(claims_df.info())"
   ]
  },
  {
   "cell_type": "markdown",
   "metadata": {
    "id": "35m5QtbWiB9F"
   },
   "source": [
    "#### Duplicate Values"
   ]
  },
  {
   "cell_type": "code",
   "execution_count": 7,
   "metadata": {
    "id": "1sLdpKYkmox0"
   },
   "outputs": [
    {
     "name": "stdout",
     "output_type": "stream",
     "text": [
      "Providers       -> Duplicate rows: 0\n",
      "Receivers       -> Duplicate rows: 0\n",
      "Food Listings   -> Duplicate rows: 0\n",
      "Claims          -> Duplicate rows: 0\n"
     ]
    }
   ],
   "source": [
    "datasets = {\n",
    "    \"Providers\": providers_df,\n",
    "    \"Receivers\": receivers_df,\n",
    "    \"Food Listings\": food_listings_df,\n",
    "    \"Claims\": claims_df\n",
    "}\n",
    "\n",
    "for name, df in datasets.items():\n",
    "    duplicate_count = df.duplicated().sum()\n",
    "    print(f\"{name:<15} -> Duplicate rows: {duplicate_count}\")\n"
   ]
  },
  {
   "cell_type": "markdown",
   "metadata": {
    "id": "PoPl-ycgm1ru"
   },
   "source": [
    "#### Missing Values/Null Values"
   ]
  },
  {
   "cell_type": "code",
   "execution_count": 8,
   "metadata": {
    "id": "GgHWkxvamxVg"
   },
   "outputs": [
    {
     "name": "stdout",
     "output_type": "stream",
     "text": [
      "\n",
      "Providers - Missing Values:\n",
      "Provider_ID    0\n",
      "Name           0\n",
      "Type           0\n",
      "Address        0\n",
      "City           0\n",
      "Contact        0\n",
      "dtype: int64\n",
      "\n",
      "Receivers - Missing Values:\n",
      "Receiver_ID    0\n",
      "Name           0\n",
      "Type           0\n",
      "City           0\n",
      "Contact        0\n",
      "dtype: int64\n",
      "\n",
      "Food Listings - Missing Values:\n",
      "Food_ID          0\n",
      "Food_Name        0\n",
      "Quantity         0\n",
      "Expiry_Date      0\n",
      "Provider_ID      0\n",
      "Provider_Type    0\n",
      "Location         0\n",
      "Food_Type        0\n",
      "Meal_Type        0\n",
      "dtype: int64\n",
      "\n",
      "Claims - Missing Values:\n",
      "Claim_ID       0\n",
      "Food_ID        0\n",
      "Receiver_ID    0\n",
      "Status         0\n",
      "Timestamp      0\n",
      "dtype: int64\n"
     ]
    }
   ],
   "source": [
    "datasets = {\n",
    "    \"Providers\": providers_df,\n",
    "    \"Receivers\": receivers_df,\n",
    "    \"Food Listings\": food_listings_df,\n",
    "    \"Claims\": claims_df\n",
    "}\n",
    "\n",
    "for name, df in datasets.items():\n",
    "    print(f\"\\n{name} - Missing Values:\")\n",
    "    print(df.isnull().sum())\n"
   ]
  },
  {
   "cell_type": "markdown",
   "metadata": {
    "id": "H0kj-8xxnORC"
   },
   "source": [
    "### What did you know about your dataset?"
   ]
  },
  {
   "cell_type": "markdown",
   "metadata": {
    "id": "gfoNAAC-nUe_"
   },
   "source": [
    "The project uses four datasets, each containing 1,000 rows with no missing or duplicate values.  \r\n",
    "The **Providers** dataset has 6 columns, storing details such as `Provider_ID`, `Name`, `Type`, `Address`, `City`, and `Contact`, describing restaurants or individuals offering surplus food.  \r\n",
    "The **Receivers** dataset includes 5 columns — `Receiver_ID`, `Name`, `Type`, `City`, and `Contact` — representing NGOs or individuals who can claim available food.  \r\n",
    "The **Food Listings** dataset contains 9 columns, including `Food_ID`, `Food_Name`, `Quantity`, `Expiry_Date`, `Provider_ID`, `Provider_Type`, `Location`, `Food_Type`, and `Meal_Type`, capturing detailed information about each surplus food item.  \r\n",
    "The **Claims** dataset has 5 columns — `Claim_ID`, `Food_ID`, `Receiver_ID`, `Status`, and `Timestamp` — which track food requests and their fulfillment status.  \r\n",
    "All datasets are clean, structured, and ready for integration into the SQL database and Streamlit-based application.\r\n"
   ]
  },
  {
   "cell_type": "markdown",
   "metadata": {
    "id": "dauF4eBmngu3"
   },
   "source": [
    "## 2. ***Data Wrangling***"
   ]
  },
  {
   "cell_type": "markdown",
   "metadata": {
    "id": "bKJF3rekwFvQ"
   },
   "source": [
    "### Data Wrangling Code"
   ]
  },
  {
   "cell_type": "code",
   "execution_count": 9,
   "metadata": {
    "id": "wk-9a2fpoLcV"
   },
   "outputs": [
    {
     "name": "stdout",
     "output_type": "stream",
     "text": [
      "Data wrangling completed. Ready for database creation.\n"
     ]
    }
   ],
   "source": [
    "import pandas as pd\n",
    "\n",
    "# Convert date columns to datetime\n",
    "food_listings_df['Expiry_Date'] = pd.to_datetime(food_listings_df['Expiry_Date'], errors='coerce')\n",
    "claims_df['Timestamp'] = pd.to_datetime(claims_df['Timestamp'], errors='coerce')\n",
    "\n",
    "# Ensure numeric columns are correct type\n",
    "numeric_cols_food = ['Food_ID', 'Quantity', 'Provider_ID']\n",
    "food_listings_df[numeric_cols_food] = food_listings_df[numeric_cols_food].apply(pd.to_numeric, errors='coerce')\n",
    "\n",
    "numeric_cols_providers = ['Provider_ID']\n",
    "providers_df[numeric_cols_providers] = providers_df[numeric_cols_providers].apply(pd.to_numeric, errors='coerce')\n",
    "\n",
    "numeric_cols_receivers = ['Receiver_ID']\n",
    "receivers_df[numeric_cols_receivers] = receivers_df[numeric_cols_receivers].apply(pd.to_numeric, errors='coerce')\n",
    "\n",
    "numeric_cols_claims = ['Claim_ID', 'Food_ID', 'Receiver_ID']\n",
    "claims_df[numeric_cols_claims] = claims_df[numeric_cols_claims].apply(pd.to_numeric, errors='coerce')\n",
    "\n",
    "# Strip whitespace and standardize text columns\n",
    "for df in [providers_df, receivers_df, food_listings_df, claims_df]:\n",
    "    for col in df.select_dtypes(include='object').columns:\n",
    "        df[col] = df[col].str.strip()  # Remove leading/trailing spaces\n",
    "\n",
    "# Optional: Standardize city names to lowercase\n",
    "providers_df['City'] = providers_df['City'].str.lower()\n",
    "receivers_df['City'] = receivers_df['City'].str.lower()\n",
    "\n",
    "print(\"Data wrangling completed. Ready for database creation.\")\n"
   ]
  },
  {
   "cell_type": "markdown",
   "metadata": {
    "id": "MSa1f5Uengrz"
   },
   "source": [
    "### What all manipulations have you done and why?"
   ]
  },
  {
   "cell_type": "markdown",
   "metadata": {
    "id": "LbyXE7I1olp8"
   },
   "source": [
    "The dataset underwent several preprocessing steps to ensure consistency and readiness for database integration. Date columns such as Expiry_Date in the Food Listings dataset and Timestamp in the Claims dataset were converted into proper datetime formats to enable time-based analysis and filtering. All relevant identifier and quantity columns were enforced as numeric types to prevent issues with joins and calculations. Text fields were stripped of leading and trailing spaces to avoid mismatches during searches or merges. Additionally, city names in the Providers and Receivers datasets were standardized to lowercase for uniformity, enabling accurate filtering and grouping without case-sensitivity issues. These steps collectively ensure that the data is clean, consistent and database-ready.\n",
    "\n"
   ]
  },
  {
   "cell_type": "markdown",
   "metadata": {
    "id": "nA9Y7ga8ng1Z"
   },
   "source": [
    "## ***3. Database Creation***"
   ]
  },
  {
   "cell_type": "code",
   "execution_count": 10,
   "metadata": {
    "id": "j7xfkqrt5Ag5"
   },
   "outputs": [
    {
     "name": "stdout",
     "output_type": "stream",
     "text": [
      "Tables in database: [('Providers',), ('Receivers',), ('Food_Listings',), ('Claims',)]\n",
      "\n",
      "Schema for Providers:\n",
      "(0, 'Provider_ID', 'INTEGER', 0, None, 0)\n",
      "(1, 'Name', 'TEXT', 0, None, 0)\n",
      "(2, 'Type', 'TEXT', 0, None, 0)\n",
      "(3, 'Address', 'TEXT', 0, None, 0)\n",
      "(4, 'City', 'TEXT', 0, None, 0)\n",
      "(5, 'Contact', 'TEXT', 0, None, 0)\n",
      "Row count: 1000\n",
      "\n",
      "Schema for Receivers:\n",
      "(0, 'Receiver_ID', 'INTEGER', 0, None, 0)\n",
      "(1, 'Name', 'TEXT', 0, None, 0)\n",
      "(2, 'Type', 'TEXT', 0, None, 0)\n",
      "(3, 'City', 'TEXT', 0, None, 0)\n",
      "(4, 'Contact', 'TEXT', 0, None, 0)\n",
      "Row count: 1000\n",
      "\n",
      "Schema for Food_Listings:\n",
      "(0, 'Food_ID', 'INTEGER', 0, None, 0)\n",
      "(1, 'Food_Name', 'TEXT', 0, None, 0)\n",
      "(2, 'Quantity', 'INTEGER', 0, None, 0)\n",
      "(3, 'Expiry_Date', 'TIMESTAMP', 0, None, 0)\n",
      "(4, 'Provider_ID', 'INTEGER', 0, None, 0)\n",
      "(5, 'Provider_Type', 'TEXT', 0, None, 0)\n",
      "(6, 'Location', 'TEXT', 0, None, 0)\n",
      "(7, 'Food_Type', 'TEXT', 0, None, 0)\n",
      "(8, 'Meal_Type', 'TEXT', 0, None, 0)\n",
      "Row count: 1000\n",
      "\n",
      "Schema for Claims:\n",
      "(0, 'Claim_ID', 'INTEGER', 0, None, 0)\n",
      "(1, 'Food_ID', 'INTEGER', 0, None, 0)\n",
      "(2, 'Receiver_ID', 'INTEGER', 0, None, 0)\n",
      "(3, 'Status', 'TEXT', 0, None, 0)\n",
      "(4, 'Timestamp', 'TIMESTAMP', 0, None, 0)\n",
      "Row count: 1000\n"
     ]
    }
   ],
   "source": [
    "import sqlite3\n",
    "\n",
    "# Connect to DB (creates if not exists)\n",
    "conn = sqlite3.connect(\"food_management.db\")\n",
    "cursor = conn.cursor()\n",
    "\n",
    "# 1. Create tables\n",
    "cursor.execute('''CREATE TABLE IF NOT EXISTS Providers (\n",
    "    Provider_ID INTEGER PRIMARY KEY,\n",
    "    Name TEXT,\n",
    "    Type TEXT,\n",
    "    Address TEXT,\n",
    "    City TEXT,\n",
    "    Contact TEXT\n",
    ")''')\n",
    "\n",
    "cursor.execute('''CREATE TABLE IF NOT EXISTS Receivers (\n",
    "    Receiver_ID INTEGER PRIMARY KEY,\n",
    "    Name TEXT,\n",
    "    Type TEXT,\n",
    "    City TEXT,\n",
    "    Contact TEXT\n",
    ")''')\n",
    "\n",
    "cursor.execute('''CREATE TABLE IF NOT EXISTS Food_Listings (\n",
    "    Food_ID INTEGER PRIMARY KEY,\n",
    "    Food_Name TEXT,\n",
    "    Quantity INTEGER,\n",
    "    Expiry_Date TEXT,\n",
    "    Provider_ID INTEGER,\n",
    "    Provider_Type TEXT,\n",
    "    Location TEXT,\n",
    "    Food_Type TEXT,\n",
    "    Meal_Type TEXT\n",
    ")''')\n",
    "\n",
    "cursor.execute('''CREATE TABLE IF NOT EXISTS Claims (\n",
    "    Claim_ID INTEGER PRIMARY KEY,\n",
    "    Food_ID INTEGER,\n",
    "    Receiver_ID INTEGER,\n",
    "    Status TEXT,\n",
    "    Timestamp TEXT\n",
    ")''')\n",
    "\n",
    "# 2. Insert DataFrames into tables\n",
    "providers_df.to_sql(\"Providers\", conn, if_exists=\"replace\", index=False)\n",
    "receivers_df.to_sql(\"Receivers\", conn, if_exists=\"replace\", index=False)\n",
    "food_listings_df.to_sql(\"Food_Listings\", conn, if_exists=\"replace\", index=False)\n",
    "claims_df.to_sql(\"Claims\", conn, if_exists=\"replace\", index=False)\n",
    "\n",
    "# 3. Verify tables exist\n",
    "cursor.execute(\"SELECT name FROM sqlite_master WHERE type='table';\")\n",
    "tables = cursor.fetchall()\n",
    "print(\"Tables in database:\", tables)\n",
    "\n",
    "# 4. Show schema & row count for each table\n",
    "for table_name in [\"Providers\", \"Receivers\", \"Food_Listings\", \"Claims\"]:\n",
    "    print(f\"\\nSchema for {table_name}:\")\n",
    "    cursor.execute(f\"PRAGMA table_info({table_name});\")\n",
    "    schema = cursor.fetchall()\n",
    "    for col in schema:\n",
    "        print(col)\n",
    "    \n",
    "    cursor.execute(f\"SELECT COUNT(*) FROM {table_name};\")\n",
    "    count = cursor.fetchone()[0]\n",
    "    print(f\"Row count: {count}\")\n",
    "\n",
    "# Commit and close\n",
    "conn.commit()\n",
    "conn.close()\n"
   ]
  },
  {
   "cell_type": "markdown",
   "metadata": {
    "id": "PBTbrJXOngz2"
   },
   "source": [
    "### CRUD Implementation"
   ]
  },
  {
   "cell_type": "code",
   "execution_count": 11,
   "metadata": {},
   "outputs": [],
   "source": [
    "import sqlite3\n",
    "\n",
    "# Connect to the database\n",
    "conn = sqlite3.connect(\"food_management.db\")\n",
    "cursor = conn.cursor()\n",
    "\n",
    "# CREATE FUNCTIONS\n",
    "def add_provider(provider_id, name, ptype, address, city, contact):\n",
    "    cursor.execute(\"\"\"\n",
    "        INSERT INTO Providers (Provider_ID, Name, Type, Address, City, Contact)\n",
    "        VALUES (?, ?, ?, ?, ?, ?)\n",
    "    \"\"\", (provider_id, name, ptype, address, city, contact))\n",
    "    conn.commit()\n",
    "\n",
    "def add_receiver(receiver_id, name, rtype, city, contact):\n",
    "    cursor.execute(\"\"\"\n",
    "        INSERT INTO Receivers (Receiver_ID, Name, Type, City, Contact)\n",
    "        VALUES (?, ?, ?, ?, ?)\n",
    "    \"\"\", (receiver_id, name, rtype, city, contact))\n",
    "    conn.commit()\n",
    "\n",
    "def add_food(food_id, food_name, quantity, expiry_date, provider_id, provider_type, location, food_type, meal_type):\n",
    "    cursor.execute(\"\"\"\n",
    "        INSERT INTO Food_Listings (Food_ID, Food_Name, Quantity, Expiry_Date, Provider_ID, Provider_Type, Location, Food_Type, Meal_Type)\n",
    "        VALUES (?, ?, ?, ?, ?, ?, ?, ?, ?)\n",
    "    \"\"\", (food_id, food_name, quantity, expiry_date, provider_id, provider_type, location, food_type, meal_type))\n",
    "    conn.commit()\n",
    "\n",
    "def add_claim(claim_id, food_id, receiver_id, status, timestamp):\n",
    "    cursor.execute(\"\"\"\n",
    "        INSERT INTO Claims (Claim_ID, Food_ID, Receiver_ID, Status, Timestamp)\n",
    "        VALUES (?, ?, ?, ?, ?)\n",
    "    \"\"\", (claim_id, food_id, receiver_id, status, timestamp))\n",
    "    conn.commit()\n",
    "\n",
    "# READ FUNCTION\n",
    "def read_table(table_name):\n",
    "    cursor.execute(f\"SELECT * FROM {table_name}\")\n",
    "    return cursor.fetchall()\n",
    "\n",
    "\n",
    "# UPDATE FUNCTIONS\n",
    "def update_provider_contact(provider_id, new_contact):\n",
    "    cursor.execute(\"\"\"\n",
    "        UPDATE Providers\n",
    "        SET Contact = ?\n",
    "        WHERE Provider_ID = ?\n",
    "    \"\"\", (new_contact, provider_id))\n",
    "    conn.commit()\n",
    "\n",
    "def update_food_quantity(food_id, new_quantity):\n",
    "    cursor.execute(\"\"\"\n",
    "        UPDATE Food_Listings\n",
    "        SET Quantity = ?\n",
    "        WHERE Food_ID = ?\n",
    "    \"\"\", (new_quantity, food_id))\n",
    "    conn.commit()\n",
    "\n",
    "def update_claim_status(claim_id, new_status):\n",
    "    cursor.execute(\"\"\"\n",
    "        UPDATE Claims\n",
    "        SET Status = ?\n",
    "        WHERE Claim_ID = ?\n",
    "    \"\"\", (new_status, claim_id))\n",
    "    conn.commit()\n",
    "\n",
    "\n",
    "# DELETE FUNCTIONS\n",
    "def delete_provider(provider_id):\n",
    "    cursor.execute(\"DELETE FROM Providers WHERE Provider_ID = ?\", (provider_id,))\n",
    "    conn.commit()\n",
    "\n",
    "def delete_food(food_id):\n",
    "    cursor.execute(\"DELETE FROM Food_Listings WHERE Food_ID = ?\", (food_id,))\n",
    "    conn.commit()\n",
    "\n",
    "def delete_claim(claim_id):\n",
    "    cursor.execute(\"DELETE FROM Claims WHERE Claim_ID = ?\", (claim_id,))\n",
    "    conn.commit()\n",
    "\n",
    "def delete_receiver(receiver_id):\n",
    "    cursor.execute(\"DELETE FROM Receivers WHERE Receiver_ID = ?\", (receiver_id,))\n",
    "    conn.commit()\n",
    "\n"
   ]
  },
  {
   "cell_type": "markdown",
   "metadata": {
    "id": "GF8Ens_Soomf"
   },
   "source": [
    "## ***4. Data Analysis & Vizualization with SQL Queries***"
   ]
  },
  {
   "cell_type": "markdown",
   "metadata": {},
   "source": [
    "### Food Providers & Receivers"
   ]
  },
  {
   "cell_type": "markdown",
   "metadata": {
    "id": "0wOQAZs5pc--"
   },
   "source": [
    "#### Question - 1\n",
    "How many food providers and receivers are there in each city?\r\n"
   ]
  },
  {
   "cell_type": "code",
   "execution_count": 12,
   "metadata": {
    "id": "7v_ESjsspbW7"
   },
   "outputs": [
    {
     "data": {
      "text/html": [
       "<div>\n",
       "<style scoped>\n",
       "    .dataframe tbody tr th:only-of-type {\n",
       "        vertical-align: middle;\n",
       "    }\n",
       "\n",
       "    .dataframe tbody tr th {\n",
       "        vertical-align: top;\n",
       "    }\n",
       "\n",
       "    .dataframe thead th {\n",
       "        text-align: right;\n",
       "    }\n",
       "</style>\n",
       "<table border=\"1\" class=\"dataframe\">\n",
       "  <thead>\n",
       "    <tr style=\"text-align: right;\">\n",
       "      <th></th>\n",
       "      <th>City</th>\n",
       "      <th>Provider_Count</th>\n",
       "      <th>Receiver_Count</th>\n",
       "    </tr>\n",
       "  </thead>\n",
       "  <tbody>\n",
       "    <tr>\n",
       "      <th>0</th>\n",
       "      <td>aaronshire</td>\n",
       "      <td>0</td>\n",
       "      <td>1</td>\n",
       "    </tr>\n",
       "    <tr>\n",
       "      <th>1</th>\n",
       "      <td>adambury</td>\n",
       "      <td>1</td>\n",
       "      <td>0</td>\n",
       "    </tr>\n",
       "    <tr>\n",
       "      <th>2</th>\n",
       "      <td>adamland</td>\n",
       "      <td>0</td>\n",
       "      <td>1</td>\n",
       "    </tr>\n",
       "    <tr>\n",
       "      <th>3</th>\n",
       "      <td>adamsview</td>\n",
       "      <td>1</td>\n",
       "      <td>0</td>\n",
       "    </tr>\n",
       "    <tr>\n",
       "      <th>4</th>\n",
       "      <td>adamsville</td>\n",
       "      <td>1</td>\n",
       "      <td>0</td>\n",
       "    </tr>\n",
       "    <tr>\n",
       "      <th>...</th>\n",
       "      <td>...</td>\n",
       "      <td>...</td>\n",
       "      <td>...</td>\n",
       "    </tr>\n",
       "    <tr>\n",
       "      <th>1873</th>\n",
       "      <td>yatesside</td>\n",
       "      <td>1</td>\n",
       "      <td>0</td>\n",
       "    </tr>\n",
       "    <tr>\n",
       "      <th>1874</th>\n",
       "      <td>youngchester</td>\n",
       "      <td>1</td>\n",
       "      <td>0</td>\n",
       "    </tr>\n",
       "    <tr>\n",
       "      <th>1875</th>\n",
       "      <td>zacharyview</td>\n",
       "      <td>0</td>\n",
       "      <td>1</td>\n",
       "    </tr>\n",
       "    <tr>\n",
       "      <th>1876</th>\n",
       "      <td>zimmermanton</td>\n",
       "      <td>1</td>\n",
       "      <td>0</td>\n",
       "    </tr>\n",
       "    <tr>\n",
       "      <th>1877</th>\n",
       "      <td>zimmermanville</td>\n",
       "      <td>1</td>\n",
       "      <td>0</td>\n",
       "    </tr>\n",
       "  </tbody>\n",
       "</table>\n",
       "<p>1878 rows × 3 columns</p>\n",
       "</div>"
      ],
      "text/plain": [
       "                City  Provider_Count  Receiver_Count\n",
       "0         aaronshire               0               1\n",
       "1           adambury               1               0\n",
       "2           adamland               0               1\n",
       "3          adamsview               1               0\n",
       "4         adamsville               1               0\n",
       "...              ...             ...             ...\n",
       "1873       yatesside               1               0\n",
       "1874    youngchester               1               0\n",
       "1875     zacharyview               0               1\n",
       "1876    zimmermanton               1               0\n",
       "1877  zimmermanville               1               0\n",
       "\n",
       "[1878 rows x 3 columns]"
      ]
     },
     "execution_count": 12,
     "metadata": {},
     "output_type": "execute_result"
    }
   ],
   "source": [
    "# SQL query to count providers and receivers by city\n",
    "query = \"\"\"\n",
    "SELECT City, \n",
    "       COUNT(DISTINCT Provider_ID) AS Provider_Count,\n",
    "       COUNT(DISTINCT Receiver_ID) AS Receiver_Count\n",
    "FROM (\n",
    "    SELECT City, Provider_ID, NULL AS Receiver_ID FROM Providers\n",
    "    UNION ALL\n",
    "    SELECT City, NULL, Receiver_ID FROM Receivers\n",
    ") AS Combined\n",
    "GROUP BY City\n",
    "ORDER BY City;\n",
    "\"\"\"\n",
    "\n",
    "df_city_counts = pd.read_sql_query(query, conn)\n",
    "df_city_counts\n"
   ]
  },
  {
   "cell_type": "code",
   "execution_count": 13,
   "metadata": {},
   "outputs": [
    {
     "data": {
      "image/png": "[encoded data removed]",
      "text/plain": [
       "<Figure size 1000x600 with 1 Axes>"
      ]
     },
     "metadata": {},
     "output_type": "display_data"
    }
   ],
   "source": [
    "# Sort by total count and keep top 10\n",
    "df_top10 = df_city_counts.sort_values(\n",
    "    by=[\"Provider_Count\", \"Receiver_Count\"], \n",
    "    ascending=False\n",
    ").head(10)\n",
    "\n",
    "# Plot\n",
    "x = np.arange(len(df_top10['City']))\n",
    "width = 0.35\n",
    "\n",
    "fig, ax = plt.subplots(figsize=(10,6))\n",
    "ax.bar(x - width/2, df_top10['Provider_Count'], width, label='Providers', color='skyblue')\n",
    "ax.bar(x + width/2, df_top10['Receiver_Count'], width, label='Receivers', color='salmon')\n",
    "\n",
    "ax.set_xlabel('City')\n",
    "ax.set_ylabel('Count')\n",
    "ax.set_title('Top 10 Cities by Number of Food Providers and Receivers')\n",
    "ax.set_xticks(x)\n",
    "ax.set_xticklabels(df_top10['City'], rotation=45, ha='right')\n",
    "ax.legend()\n",
    "\n",
    "plt.tight_layout()\n",
    "plt.show()\n"
   ]
  },
  {
   "cell_type": "markdown",
   "metadata": {
    "id": "K5QZ13OEpz2H"
   },
   "source": [
    "##### 1. Why did you pick the specific chart?"
   ]
  },
  {
   "cell_type": "markdown",
   "metadata": {
    "id": "XESiWehPqBRc"
   },
   "source": [
    "A grouped bar chart works well here because it allows a direct side-by-side comparison of providers and receivers within each city. It’s easy to see both the absolute numbers and the relative balance between the two groups. This format is clearer than a single stacked bar or a pie chart for showing two distinct but related counts."
   ]
  },
  {
   "cell_type": "markdown",
   "metadata": {
    "id": "lQ7QKXXCp7Bj"
   },
   "source": [
    "##### 2. What is/are the insight(s) found from the chart?"
   ]
  },
  {
   "cell_type": "markdown",
   "metadata": {
    "id": "C_j1G7yiqdRP"
   },
   "source": [
    "The top 10 cities reveal significant variation in the distribution of providers and receivers. Some cities have a higher number of providers than receivers, suggesting potential food surplus, while others show the opposite trend. This imbalance highlights where matching supply with demand could be improved.\n",
    "\n"
   ]
  },
  {
   "cell_type": "markdown",
   "metadata": {
    "id": "448CDAPjqfQr"
   },
   "source": [
    "##### 3. Will the gained insights help creating a positive business impact?\n",
    "Are there any insights that lead to negative growth? Justify with specific reason."
   ]
  },
  {
   "cell_type": "markdown",
   "metadata": {
    "id": "3cspy4FjqxJW"
   },
   "source": [
    "By identifying cities with mismatched provider–receiver ratios, resources can be allocated more strategically. For example, outreach efforts can target cities with surplus providers to connect them with under-served receivers. This leads to better food redistribution efficiency and reduced wastage, directly supporting the project’s core mission."
   ]
  },
  {
   "cell_type": "markdown",
   "metadata": {
    "id": "KSlN3yHqYklG"
   },
   "source": [
    "#### Question - 2\n",
    "Which type of food provider (restaurant, grocery store, etc.) contributes the most food?\r\n"
   ]
  },
  {
   "cell_type": "code",
   "execution_count": 14,
   "metadata": {
    "id": "R4YgtaqtYklH"
   },
   "outputs": [
    {
     "data": {
      "text/html": [
       "<div>\n",
       "<style scoped>\n",
       "    .dataframe tbody tr th:only-of-type {\n",
       "        vertical-align: middle;\n",
       "    }\n",
       "\n",
       "    .dataframe tbody tr th {\n",
       "        vertical-align: top;\n",
       "    }\n",
       "\n",
       "    .dataframe thead th {\n",
       "        text-align: right;\n",
       "    }\n",
       "</style>\n",
       "<table border=\"1\" class=\"dataframe\">\n",
       "  <thead>\n",
       "    <tr style=\"text-align: right;\">\n",
       "      <th></th>\n",
       "      <th>Provider_Type</th>\n",
       "      <th>Total_Food_Quantity</th>\n",
       "    </tr>\n",
       "  </thead>\n",
       "  <tbody>\n",
       "    <tr>\n",
       "      <th>0</th>\n",
       "      <td>Restaurant</td>\n",
       "      <td>6923</td>\n",
       "    </tr>\n",
       "    <tr>\n",
       "      <th>1</th>\n",
       "      <td>Supermarket</td>\n",
       "      <td>6696</td>\n",
       "    </tr>\n",
       "    <tr>\n",
       "      <th>2</th>\n",
       "      <td>Catering Service</td>\n",
       "      <td>6116</td>\n",
       "    </tr>\n",
       "    <tr>\n",
       "      <th>3</th>\n",
       "      <td>Grocery Store</td>\n",
       "      <td>6059</td>\n",
       "    </tr>\n",
       "  </tbody>\n",
       "</table>\n",
       "</div>"
      ],
      "text/plain": [
       "      Provider_Type  Total_Food_Quantity\n",
       "0        Restaurant                 6923\n",
       "1       Supermarket                 6696\n",
       "2  Catering Service                 6116\n",
       "3     Grocery Store                 6059"
      ]
     },
     "execution_count": 14,
     "metadata": {},
     "output_type": "execute_result"
    }
   ],
   "source": [
    "query = \"\"\"\n",
    "SELECT Provider_Type, SUM(Quantity) AS Total_Food_Quantity\n",
    "FROM Food_Listings\n",
    "GROUP BY Provider_Type\n",
    "ORDER BY Total_Food_Quantity DESC;\n",
    "\"\"\"\n",
    "df_provider_type = pd.read_sql_query(query, conn)\n",
    "df_provider_type\n"
   ]
  },
  {
   "cell_type": "code",
   "execution_count": 15,
   "metadata": {},
   "outputs": [
    {
     "data": {
      "image/png": "[encoded data removed]",
      "text/plain": [
       "<Figure size 800x600 with 1 Axes>"
      ]
     },
     "metadata": {},
     "output_type": "display_data"
    }
   ],
   "source": [
    "plt.figure(figsize=(8,6))\n",
    "sns.barplot(\n",
    "    x=\"Total_Food_Quantity\",\n",
    "    y=\"Provider_Type\",\n",
    "    hue=\"Provider_Type\", \n",
    "    data=df_provider_type,\n",
    "    palette=\"viridis\",\n",
    "    legend=False\n",
    ")\n",
    "plt.title(\"Total Food Quantity by Provider Type\", fontsize=14)\n",
    "plt.xlabel(\"Total Quantity\")\n",
    "plt.ylabel(\"Provider Type\")\n",
    "plt.tight_layout()\n",
    "plt.show()\n"
   ]
  },
  {
   "cell_type": "markdown",
   "metadata": {
    "id": "t6dVpIINYklI"
   },
   "source": [
    "##### 1. Why did you pick the specific chart?"
   ]
  },
  {
   "cell_type": "markdown",
   "metadata": {
    "id": "5aaW0BYyYklI"
   },
   "source": [
    "A horizontal bar chart is ideal for comparing food quantities across different provider types because it clearly shows differences in length. It’s easy to read even with longer category names and works well when values vary greatly between categories. The horizontal orientation also avoids label overlap, making it cleaner."
   ]
  },
  {
   "cell_type": "markdown",
   "metadata": {
    "id": "ijmpgYnKYklI"
   },
   "source": [
    "##### 2. What is/are the insight(s) found from the chart?"
   ]
  },
  {
   "cell_type": "markdown",
   "metadata": {
    "id": "PSx9atu2YklI"
   },
   "source": [
    "The data shows that restaurants contribute the largest share of surplus food, followed by grocery stores and bakeries. Smaller contributions come from community kitchens and other niche providers. This highlights where most of the available surplus is concentrated."
   ]
  },
  {
   "cell_type": "markdown",
   "metadata": {
    "id": "-JiQyfWJYklI"
   },
   "source": [
    "##### 3. Will the gained insights help creating a positive business impact?\n",
    "Are there any insights that lead to negative growth? Justify with specific reason."
   ]
  },
  {
   "cell_type": "markdown",
   "metadata": {
    "id": "BcBbebzrYklV"
   },
   "source": [
    "Knowing that restaurants are the largest contributors can help NGOs and logistics teams prioritize partnerships with them. This can reduce pickup costs and improve efficiency by focusing resources on the highest-yield sources. It also supports targeted awareness campaigns for smaller providers to boost participation.\n"
   ]
  },
  {
   "cell_type": "markdown",
   "metadata": {
    "id": "EM7whBJCYoAo"
   },
   "source": [
    "#### Question - 3\n",
    "What is the contact information of food providers in a specific city?"
   ]
  },
  {
   "cell_type": "code",
   "execution_count": 16,
   "metadata": {
    "id": "t6GMdE67YoAp"
   },
   "outputs": [
    {
     "data": {
      "text/html": [
       "<div>\n",
       "<style scoped>\n",
       "    .dataframe tbody tr th:only-of-type {\n",
       "        vertical-align: middle;\n",
       "    }\n",
       "\n",
       "    .dataframe tbody tr th {\n",
       "        vertical-align: top;\n",
       "    }\n",
       "\n",
       "    .dataframe thead th {\n",
       "        text-align: right;\n",
       "    }\n",
       "</style>\n",
       "<table border=\"1\" class=\"dataframe\">\n",
       "  <thead>\n",
       "    <tr style=\"text-align: right;\">\n",
       "      <th></th>\n",
       "      <th>Name</th>\n",
       "      <th>Type</th>\n",
       "      <th>Address</th>\n",
       "      <th>City</th>\n",
       "      <th>Contact</th>\n",
       "    </tr>\n",
       "  </thead>\n",
       "  <tbody>\n",
       "    <tr>\n",
       "      <th>0</th>\n",
       "      <td>Gonzales-Cochran</td>\n",
       "      <td>Supermarket</td>\n",
       "      <td>74347 Christopher Extensions\\nAndreamouth, OK ...</td>\n",
       "      <td>new jessica</td>\n",
       "      <td>+1-600-220-0480</td>\n",
       "    </tr>\n",
       "  </tbody>\n",
       "</table>\n",
       "</div>"
      ],
      "text/plain": [
       "               Name         Type  \\\n",
       "0  Gonzales-Cochran  Supermarket   \n",
       "\n",
       "                                             Address         City  \\\n",
       "0  74347 Christopher Extensions\\nAndreamouth, OK ...  new jessica   \n",
       "\n",
       "           Contact  \n",
       "0  +1-600-220-0480  "
      ]
     },
     "execution_count": 16,
     "metadata": {},
     "output_type": "execute_result"
    }
   ],
   "source": [
    "city_name = \"new jessica\"  # Change this to whichever city you want\n",
    "\n",
    "query = f\"\"\"\n",
    "SELECT Name, Type, Address, City, Contact\n",
    "FROM Providers\n",
    "WHERE City = '{city_name}';\n",
    "\"\"\"\n",
    "\n",
    "df_contacts = pd.read_sql_query(query, conn)\n",
    "df_contacts\n"
   ]
  },
  {
   "cell_type": "markdown",
   "metadata": {
    "id": "4Of9eVA-YrdM"
   },
   "source": [
    "#### Question - 4\n",
    "Which receivers have claimed the most food?"
   ]
  },
  {
   "cell_type": "code",
   "execution_count": 17,
   "metadata": {
    "id": "irlUoxc8YrdO"
   },
   "outputs": [
    {
     "data": {
      "text/html": [
       "<div>\n",
       "<style scoped>\n",
       "    .dataframe tbody tr th:only-of-type {\n",
       "        vertical-align: middle;\n",
       "    }\n",
       "\n",
       "    .dataframe tbody tr th {\n",
       "        vertical-align: top;\n",
       "    }\n",
       "\n",
       "    .dataframe thead th {\n",
       "        text-align: right;\n",
       "    }\n",
       "</style>\n",
       "<table border=\"1\" class=\"dataframe\">\n",
       "  <thead>\n",
       "    <tr style=\"text-align: right;\">\n",
       "      <th></th>\n",
       "      <th>Name</th>\n",
       "      <th>Total_Claims</th>\n",
       "    </tr>\n",
       "  </thead>\n",
       "  <tbody>\n",
       "    <tr>\n",
       "      <th>0</th>\n",
       "      <td>William Frederick</td>\n",
       "      <td>5</td>\n",
       "    </tr>\n",
       "    <tr>\n",
       "      <th>1</th>\n",
       "      <td>Scott Hunter</td>\n",
       "      <td>5</td>\n",
       "    </tr>\n",
       "    <tr>\n",
       "      <th>2</th>\n",
       "      <td>Matthew Webb</td>\n",
       "      <td>5</td>\n",
       "    </tr>\n",
       "    <tr>\n",
       "      <th>3</th>\n",
       "      <td>Anthony Garcia</td>\n",
       "      <td>5</td>\n",
       "    </tr>\n",
       "    <tr>\n",
       "      <th>4</th>\n",
       "      <td>Kristine Martin</td>\n",
       "      <td>4</td>\n",
       "    </tr>\n",
       "    <tr>\n",
       "      <th>5</th>\n",
       "      <td>Kristina Simpson</td>\n",
       "      <td>4</td>\n",
       "    </tr>\n",
       "    <tr>\n",
       "      <th>6</th>\n",
       "      <td>Jennifer Nelson</td>\n",
       "      <td>4</td>\n",
       "    </tr>\n",
       "    <tr>\n",
       "      <th>7</th>\n",
       "      <td>Donald Caldwell</td>\n",
       "      <td>4</td>\n",
       "    </tr>\n",
       "    <tr>\n",
       "      <th>8</th>\n",
       "      <td>Chelsea Powell</td>\n",
       "      <td>4</td>\n",
       "    </tr>\n",
       "    <tr>\n",
       "      <th>9</th>\n",
       "      <td>Betty Reid</td>\n",
       "      <td>4</td>\n",
       "    </tr>\n",
       "  </tbody>\n",
       "</table>\n",
       "</div>"
      ],
      "text/plain": [
       "                Name  Total_Claims\n",
       "0  William Frederick             5\n",
       "1       Scott Hunter             5\n",
       "2       Matthew Webb             5\n",
       "3     Anthony Garcia             5\n",
       "4    Kristine Martin             4\n",
       "5   Kristina Simpson             4\n",
       "6    Jennifer Nelson             4\n",
       "7    Donald Caldwell             4\n",
       "8     Chelsea Powell             4\n",
       "9         Betty Reid             4"
      ]
     },
     "execution_count": 17,
     "metadata": {},
     "output_type": "execute_result"
    }
   ],
   "source": [
    "query = \"\"\"\n",
    "SELECT r.Name, COUNT(c.Claim_ID) AS Total_Claims\n",
    "FROM Claims c\n",
    "JOIN Receivers r ON c.Receiver_ID = r.Receiver_ID\n",
    "GROUP BY r.Name\n",
    "ORDER BY Total_Claims DESC\n",
    "LIMIT 10;\n",
    "\"\"\"\n",
    "top_receivers = pd.read_sql_query(query, conn)\n",
    "top_receivers\n"
   ]
  },
  {
   "cell_type": "code",
   "execution_count": 18,
   "metadata": {},
   "outputs": [
    {
     "data": {
      "image/png": "[encoded data removed]",
      "text/plain": [
       "<Figure size 1000x600 with 1 Axes>"
      ]
     },
     "metadata": {},
     "output_type": "display_data"
    }
   ],
   "source": [
    "plt.figure(figsize=(10, 6))\n",
    "sns.barplot(\n",
    "    data=top_receivers,\n",
    "    x=\"Total_Claims\",\n",
    "    y=\"Name\",\n",
    "    hue=\"Name\",  \n",
    "    palette=\"viridis\",\n",
    "    legend=False\n",
    ")\n",
    "plt.xlabel(\"Number of Claims\")\n",
    "plt.ylabel(\"Receiver Name\")\n",
    "plt.title(\"Top 10 Receivers by Number of Claims\")\n",
    "plt.tight_layout()\n",
    "plt.show()\n"
   ]
  },
  {
   "cell_type": "markdown",
   "metadata": {
    "id": "iky9q4vBYrdO"
   },
   "source": [
    "##### 1. Why did you pick the specific chart?"
   ]
  },
  {
   "cell_type": "markdown",
   "metadata": {
    "id": "aJRCwT6DYrdO"
   },
   "source": [
    "A horizontal bar chart works best here because receiver names can be long, and this layout keeps them readable. It also makes it easy to compare the number of claims at a glance without the clutter of overlapping labels. The ordered bars visually highlight the top performers clearly."
   ]
  },
  {
   "cell_type": "markdown",
   "metadata": {
    "id": "F6T5p64dYrdO"
   },
   "source": [
    "##### 2. What is/are the insight(s) found from the chart?"
   ]
  },
  {
   "cell_type": "markdown",
   "metadata": {
    "id": "Xx8WAJvtYrdO"
   },
   "source": [
    "The chart shows that a small group of receivers accounts for a disproportionately high number of food claims. This indicates that demand is concentrated in specific organizations or individuals. It also reveals which receivers are most engaged with the system."
   ]
  },
  {
   "cell_type": "markdown",
   "metadata": {
    "id": "y-Ehk30pYrdP"
   },
   "source": [
    "##### 3. Will the gained insights help creating a positive business impact?\n",
    "Are there any insights that lead to negative growth? Justify with specific reason."
   ]
  },
  {
   "cell_type": "markdown",
   "metadata": {
    "id": "jLNxxz7MYrdP"
   },
   "source": [
    "With this data, the organization can prioritize high-volume receivers for faster processing and dedicated support. It can also help allocate surplus food more efficiently by matching supply to demand hotspots. Ultimately, it strengthens partnerships with the most active receivers, leading to improved food distribution efficiency."
   ]
  },
  {
   "cell_type": "markdown",
   "metadata": {},
   "source": [
    "### Food Listings & Availability\n"
   ]
  },
  {
   "cell_type": "markdown",
   "metadata": {
    "id": "bamQiAODYuh1"
   },
   "source": [
    "#### Question - 5\n",
    "What is the total quantity of food available from all providers?"
   ]
  },
  {
   "cell_type": "code",
   "execution_count": 30,
   "metadata": {
    "id": "TIJwrbroYuh3"
   },
   "outputs": [
    {
     "data": {
      "text/html": [
       "<div>\n",
       "<style scoped>\n",
       "    .dataframe tbody tr th:only-of-type {\n",
       "        vertical-align: middle;\n",
       "    }\n",
       "\n",
       "    .dataframe tbody tr th {\n",
       "        vertical-align: top;\n",
       "    }\n",
       "\n",
       "    .dataframe thead th {\n",
       "        text-align: right;\n",
       "    }\n",
       "</style>\n",
       "<table border=\"1\" class=\"dataframe\">\n",
       "  <thead>\n",
       "    <tr style=\"text-align: right;\">\n",
       "      <th></th>\n",
       "      <th>Total_Food_Quantity</th>\n",
       "    </tr>\n",
       "  </thead>\n",
       "  <tbody>\n",
       "    <tr>\n",
       "      <th>0</th>\n",
       "      <td>25794</td>\n",
       "    </tr>\n",
       "  </tbody>\n",
       "</table>\n",
       "</div>"
      ],
      "text/plain": [
       "   Total_Food_Quantity\n",
       "0                25794"
      ]
     },
     "execution_count": 30,
     "metadata": {},
     "output_type": "execute_result"
    }
   ],
   "source": [
    "query = \"\"\"\n",
    "SELECT SUM(Quantity) AS Total_Food_Quantity\n",
    "FROM Food_Listings;\n",
    "\"\"\"\n",
    "total_quantity_df = pd.read_sql_query(query, conn)\n",
    "total_quantity_df\n"
   ]
  },
  {
   "cell_type": "markdown",
   "metadata": {
    "id": "OH-pJp9IphqM"
   },
   "source": [
    "#### Question - 6\n",
    "Which city has the highest number of food listings?"
   ]
  },
  {
   "cell_type": "code",
   "execution_count": 32,
   "metadata": {
    "id": "kuRf4wtuphqN"
   },
   "outputs": [
    {
     "data": {
      "text/html": [
       "<div>\n",
       "<style scoped>\n",
       "    .dataframe tbody tr th:only-of-type {\n",
       "        vertical-align: middle;\n",
       "    }\n",
       "\n",
       "    .dataframe tbody tr th {\n",
       "        vertical-align: top;\n",
       "    }\n",
       "\n",
       "    .dataframe thead th {\n",
       "        text-align: right;\n",
       "    }\n",
       "</style>\n",
       "<table border=\"1\" class=\"dataframe\">\n",
       "  <thead>\n",
       "    <tr style=\"text-align: right;\">\n",
       "      <th></th>\n",
       "      <th>City</th>\n",
       "      <th>Listing_Count</th>\n",
       "    </tr>\n",
       "  </thead>\n",
       "  <tbody>\n",
       "    <tr>\n",
       "      <th>0</th>\n",
       "      <td>South Kathryn</td>\n",
       "      <td>6</td>\n",
       "    </tr>\n",
       "    <tr>\n",
       "      <th>1</th>\n",
       "      <td>New Carol</td>\n",
       "      <td>6</td>\n",
       "    </tr>\n",
       "    <tr>\n",
       "      <th>2</th>\n",
       "      <td>Perezport</td>\n",
       "      <td>5</td>\n",
       "    </tr>\n",
       "    <tr>\n",
       "      <th>3</th>\n",
       "      <td>Jimmyberg</td>\n",
       "      <td>5</td>\n",
       "    </tr>\n",
       "    <tr>\n",
       "      <th>4</th>\n",
       "      <td>East Angela</td>\n",
       "      <td>5</td>\n",
       "    </tr>\n",
       "    <tr>\n",
       "      <th>...</th>\n",
       "      <td>...</td>\n",
       "      <td>...</td>\n",
       "    </tr>\n",
       "    <tr>\n",
       "      <th>619</th>\n",
       "      <td>Andersonmouth</td>\n",
       "      <td>1</td>\n",
       "    </tr>\n",
       "    <tr>\n",
       "      <th>620</th>\n",
       "      <td>Amandashire</td>\n",
       "      <td>1</td>\n",
       "    </tr>\n",
       "    <tr>\n",
       "      <th>621</th>\n",
       "      <td>Allenborough</td>\n",
       "      <td>1</td>\n",
       "    </tr>\n",
       "    <tr>\n",
       "      <th>622</th>\n",
       "      <td>Alexanderchester</td>\n",
       "      <td>1</td>\n",
       "    </tr>\n",
       "    <tr>\n",
       "      <th>623</th>\n",
       "      <td>Adambury</td>\n",
       "      <td>1</td>\n",
       "    </tr>\n",
       "  </tbody>\n",
       "</table>\n",
       "<p>624 rows × 2 columns</p>\n",
       "</div>"
      ],
      "text/plain": [
       "                 City  Listing_Count\n",
       "0       South Kathryn              6\n",
       "1           New Carol              6\n",
       "2           Perezport              5\n",
       "3           Jimmyberg              5\n",
       "4         East Angela              5\n",
       "..                ...            ...\n",
       "619     Andersonmouth              1\n",
       "620       Amandashire              1\n",
       "621      Allenborough              1\n",
       "622  Alexanderchester              1\n",
       "623          Adambury              1\n",
       "\n",
       "[624 rows x 2 columns]"
      ]
     },
     "execution_count": 32,
     "metadata": {},
     "output_type": "execute_result"
    }
   ],
   "source": [
    "query = \"\"\"\n",
    "SELECT Location AS City, COUNT(*) AS Listing_Count\n",
    "FROM Food_Listings\n",
    "GROUP BY Location\n",
    "ORDER BY Listing_Count DESC;\n",
    "\"\"\"\n",
    "city_listings = pd.read_sql_query(query, conn)\n",
    "city_listings\n"
   ]
  },
  {
   "cell_type": "code",
   "execution_count": 33,
   "metadata": {},
   "outputs": [
    {
     "data": {
      "image/png": "[encoded data removed]",
      "text/plain": [
       "<Figure size 1000x600 with 1 Axes>"
      ]
     },
     "metadata": {},
     "output_type": "display_data"
    }
   ],
   "source": [
    "import matplotlib.pyplot as plt\n",
    "import numpy as np\n",
    "\n",
    "# Take top 10 cities by listing count\n",
    "top_cities = city_listings.head(10)\n",
    "\n",
    "x = np.arange(len(top_cities['City']))\n",
    "width = 0.6\n",
    "\n",
    "plt.figure(figsize=(10,6))\n",
    "plt.bar(x, top_cities['Listing_Count'], color='steelblue')\n",
    "plt.xticks(x, top_cities['City'], rotation=45, ha='right')\n",
    "plt.xlabel('City')\n",
    "plt.ylabel('Number of Food Listings')\n",
    "plt.title('Top 10 Cities by Number of Food Listings')\n",
    "plt.tight_layout()\n",
    "plt.show()\n"
   ]
  },
  {
   "cell_type": "markdown",
   "metadata": {
    "id": "bbFf2-_FphqN"
   },
   "source": [
    "##### 1. Why did you pick the specific chart?"
   ]
  },
  {
   "cell_type": "markdown",
   "metadata": {
    "id": "loh7H2nzphqN"
   },
   "source": [
    "A vertical bar chart is straightforward and effective for ranking cities by the number of food listings. It clearly displays the relative scale of listings across cities and handles categorical city names well. Limiting it to the top 10 keeps the visualization clean and focused."
   ]
  },
  {
   "cell_type": "markdown",
   "metadata": {
    "id": "_ouA3fa0phqN"
   },
   "source": [
    "##### 2. What is/are the insight(s) found from the chart?"
   ]
  },
  {
   "cell_type": "markdown",
   "metadata": {
    "id": "VECbqPI7phqN"
   },
   "source": [
    "The data reveals that a few cities dominate in terms of available food listings, indicating areas with higher surplus food activity. This concentration points to regional differences in food donation behaviors or population density. Recognizing these hotspots helps prioritize resource allocation."
   ]
  },
  {
   "cell_type": "markdown",
   "metadata": {
    "id": "Seke61FWphqN"
   },
   "source": [
    "##### 3. Will the gained insights help creating a positive business impact?\n",
    "Are there any insights that lead to negative growth? Justify with specific reason."
   ]
  },
  {
   "cell_type": "markdown",
   "metadata": {
    "id": "DW4_bGpfphqN"
   },
   "source": [
    "Understanding which cities have the most listings enables targeted outreach to maintain and expand provider networks there. It also informs logistics planning, ensuring transport and storage resources are optimized where demand and supply are highest. Ultimately, this helps reduce food wastage more effectively.\n"
   ]
  },
  {
   "cell_type": "markdown",
   "metadata": {
    "id": "PIIx-8_IphqN"
   },
   "source": [
    "#### Question - 7\n",
    "What are the most commonly available food types?"
   ]
  },
  {
   "cell_type": "code",
   "execution_count": 34,
   "metadata": {
    "id": "lqAIGUfyphqO"
   },
   "outputs": [
    {
     "data": {
      "text/html": [
       "<div>\n",
       "<style scoped>\n",
       "    .dataframe tbody tr th:only-of-type {\n",
       "        vertical-align: middle;\n",
       "    }\n",
       "\n",
       "    .dataframe tbody tr th {\n",
       "        vertical-align: top;\n",
       "    }\n",
       "\n",
       "    .dataframe thead th {\n",
       "        text-align: right;\n",
       "    }\n",
       "</style>\n",
       "<table border=\"1\" class=\"dataframe\">\n",
       "  <thead>\n",
       "    <tr style=\"text-align: right;\">\n",
       "      <th></th>\n",
       "      <th>Food_Type</th>\n",
       "      <th>Count</th>\n",
       "    </tr>\n",
       "  </thead>\n",
       "  <tbody>\n",
       "    <tr>\n",
       "      <th>0</th>\n",
       "      <td>Vegetarian</td>\n",
       "      <td>336</td>\n",
       "    </tr>\n",
       "    <tr>\n",
       "      <th>1</th>\n",
       "      <td>Vegan</td>\n",
       "      <td>334</td>\n",
       "    </tr>\n",
       "    <tr>\n",
       "      <th>2</th>\n",
       "      <td>Non-Vegetarian</td>\n",
       "      <td>330</td>\n",
       "    </tr>\n",
       "  </tbody>\n",
       "</table>\n",
       "</div>"
      ],
      "text/plain": [
       "        Food_Type  Count\n",
       "0      Vegetarian    336\n",
       "1           Vegan    334\n",
       "2  Non-Vegetarian    330"
      ]
     },
     "execution_count": 34,
     "metadata": {},
     "output_type": "execute_result"
    }
   ],
   "source": [
    "query = \"\"\"\n",
    "SELECT Food_Type, COUNT(*) AS Count\n",
    "FROM Food_Listings\n",
    "GROUP BY Food_Type\n",
    "ORDER BY Count DESC;\n",
    "\"\"\"\n",
    "food_type_counts = pd.read_sql_query(query, conn)\n",
    "food_type_counts\n"
   ]
  },
  {
   "cell_type": "code",
   "execution_count": 36,
   "metadata": {},
   "outputs": [
    {
     "data": {
      "image/png": "[encoded data removed]",
      "text/plain": [
       "<Figure size 800x800 with 1 Axes>"
      ]
     },
     "metadata": {},
     "output_type": "display_data"
    }
   ],
   "source": [
    "plt.figure(figsize=(8,8))\n",
    "plt.pie(\n",
    "    food_type_counts['Count'],\n",
    "    labels=food_type_counts['Food_Type'],\n",
    "    autopct='%1.1f%%',\n",
    "    startangle=140,\n",
    "    colors=plt.cm.Paired.colors\n",
    ")\n",
    "plt.title('Distribution of Most Commonly Available Food Types')\n",
    "plt.axis('equal')  # Equal aspect ratio ensures pie is circular\n",
    "plt.show()\n"
   ]
  },
  {
   "cell_type": "markdown",
   "metadata": {
    "id": "t27r6nlMphqO"
   },
   "source": [
    "##### 1. Why did you pick the specific chart?"
   ]
  },
  {
   "cell_type": "markdown",
   "metadata": {
    "id": "iv6ro40sphqO"
   },
   "source": [
    "A pie chart visually represents the proportion of each food type relative to the whole, making it easy to grasp the distribution at a glance. It’s effective when you want to emphasize parts of a whole, especially with a manageable number of categories. The colorful slices provide an intuitive and immediate understanding of dominance among food types."
   ]
  },
  {
   "cell_type": "markdown",
   "metadata": {
    "id": "r2jJGEOYphqO"
   },
   "source": [
    "##### 2. What is/are the insight(s) found from the chart?"
   ]
  },
  {
   "cell_type": "markdown",
   "metadata": {
    "id": "Po6ZPi4hphqO"
   },
   "source": [
    "The chart highlights which food types dominate the surplus listings, showing if vegetarian, non-vegetarian, or vegan options are most common. This helps identify dietary trends and preferences within the food donation ecosystem. It also reveals if there’s a lack of diversity in the available food types."
   ]
  },
  {
   "cell_type": "markdown",
   "metadata": {
    "id": "b0JNsNcRphqO"
   },
   "source": [
    "##### 3. Will the gained insights help creating a positive business impact?\n",
    "Are there any insights that lead to negative growth? Justify with specific reason."
   ]
  },
  {
   "cell_type": "markdown",
   "metadata": {
    "id": "xvSq8iUTphqO"
   },
   "source": [
    "Understanding the composition of food types allows organizers to tailor their distribution strategies to recipient preferences or dietary needs. It can guide partnerships with providers to encourage more variety where needed. This ensures food reaches appropriate receivers, reducing waste due to mismatches in demand and supply."
   ]
  },
  {
   "cell_type": "markdown",
   "metadata": {},
   "source": [
    "### Claims & Distribution"
   ]
  },
  {
   "cell_type": "markdown",
   "metadata": {
    "id": "BZR9WyysphqO"
   },
   "source": [
    "#### Question - 8\n",
    " How many food claims have been made for each food item?"
   ]
  },
  {
   "cell_type": "code",
   "execution_count": 37,
   "metadata": {
    "id": "TdPTWpAVphqO"
   },
   "outputs": [
    {
     "data": {
      "text/html": [
       "<div>\n",
       "<style scoped>\n",
       "    .dataframe tbody tr th:only-of-type {\n",
       "        vertical-align: middle;\n",
       "    }\n",
       "\n",
       "    .dataframe tbody tr th {\n",
       "        vertical-align: top;\n",
       "    }\n",
       "\n",
       "    .dataframe thead th {\n",
       "        text-align: right;\n",
       "    }\n",
       "</style>\n",
       "<table border=\"1\" class=\"dataframe\">\n",
       "  <thead>\n",
       "    <tr style=\"text-align: right;\">\n",
       "      <th></th>\n",
       "      <th>Food_Name</th>\n",
       "      <th>Claim_Count</th>\n",
       "    </tr>\n",
       "  </thead>\n",
       "  <tbody>\n",
       "    <tr>\n",
       "      <th>0</th>\n",
       "      <td>Rice</td>\n",
       "      <td>122</td>\n",
       "    </tr>\n",
       "    <tr>\n",
       "      <th>1</th>\n",
       "      <td>Soup</td>\n",
       "      <td>114</td>\n",
       "    </tr>\n",
       "    <tr>\n",
       "      <th>2</th>\n",
       "      <td>Dairy</td>\n",
       "      <td>110</td>\n",
       "    </tr>\n",
       "    <tr>\n",
       "      <th>3</th>\n",
       "      <td>Fish</td>\n",
       "      <td>108</td>\n",
       "    </tr>\n",
       "    <tr>\n",
       "      <th>4</th>\n",
       "      <td>Salad</td>\n",
       "      <td>106</td>\n",
       "    </tr>\n",
       "    <tr>\n",
       "      <th>5</th>\n",
       "      <td>Chicken</td>\n",
       "      <td>102</td>\n",
       "    </tr>\n",
       "    <tr>\n",
       "      <th>6</th>\n",
       "      <td>Bread</td>\n",
       "      <td>94</td>\n",
       "    </tr>\n",
       "    <tr>\n",
       "      <th>7</th>\n",
       "      <td>Pasta</td>\n",
       "      <td>87</td>\n",
       "    </tr>\n",
       "    <tr>\n",
       "      <th>8</th>\n",
       "      <td>Vegetables</td>\n",
       "      <td>86</td>\n",
       "    </tr>\n",
       "    <tr>\n",
       "      <th>9</th>\n",
       "      <td>Fruits</td>\n",
       "      <td>71</td>\n",
       "    </tr>\n",
       "  </tbody>\n",
       "</table>\n",
       "</div>"
      ],
      "text/plain": [
       "    Food_Name  Claim_Count\n",
       "0        Rice          122\n",
       "1        Soup          114\n",
       "2       Dairy          110\n",
       "3        Fish          108\n",
       "4       Salad          106\n",
       "5     Chicken          102\n",
       "6       Bread           94\n",
       "7       Pasta           87\n",
       "8  Vegetables           86\n",
       "9      Fruits           71"
      ]
     },
     "execution_count": 37,
     "metadata": {},
     "output_type": "execute_result"
    }
   ],
   "source": [
    "query = \"\"\"\n",
    "SELECT f.Food_Name, COUNT(c.Claim_ID) AS Claim_Count\n",
    "FROM Claims c\n",
    "JOIN Food_Listings f ON c.Food_ID = f.Food_ID\n",
    "GROUP BY f.Food_Name\n",
    "ORDER BY Claim_Count DESC\n",
    "LIMIT 10;\n",
    "\"\"\"\n",
    "claims_per_food = pd.read_sql_query(query, conn)\n",
    "claims_per_food\n"
   ]
  },
  {
   "cell_type": "code",
   "execution_count": 38,
   "metadata": {},
   "outputs": [
    {
     "data": {
      "image/png": "[encoded data removed]",
      "text/plain": [
       "<Figure size 1000x600 with 1 Axes>"
      ]
     },
     "metadata": {},
     "output_type": "display_data"
    }
   ],
   "source": [
    "plt.figure(figsize=(10,6))\n",
    "sns.barplot(\n",
    "    data=claims_per_food,\n",
    "    x=\"Claim_Count\",\n",
    "    y=\"Food_Name\",\n",
    "    hue=\"Food_Name\",\n",
    "    palette=\"coolwarm\",\n",
    "    legend=False\n",
    ")\n",
    "plt.xlabel(\"Number of Claims\")\n",
    "plt.ylabel(\"Food Item\")\n",
    "plt.title(\"Top 10 Food Items by Number of Claims\")\n",
    "plt.tight_layout()\n",
    "plt.show()\n"
   ]
  },
  {
   "cell_type": "markdown",
   "metadata": {
    "id": "jj7wYXLtphqO"
   },
   "source": [
    "##### 1. Why did you pick the specific chart?"
   ]
  },
  {
   "cell_type": "markdown",
   "metadata": {
    "id": "Ob8u6rCTphqO"
   },
   "source": [
    "A horizontal bar chart clearly displays the ranking of food items by the number of claims, making long food names easy to read. It effectively shows differences in demand volume, allowing quick comparison across items. Using distinct colors via hue helps differentiate each item visually."
   ]
  },
  {
   "cell_type": "markdown",
   "metadata": {
    "id": "eZrbJ2SmphqO"
   },
   "source": [
    "##### 2. What is/are the insight(s) found from the chart?"
   ]
  },
  {
   "cell_type": "markdown",
   "metadata": {
    "id": "mZtgC_hjphqO"
   },
   "source": [
    "The chart reveals which food items are in highest demand, indicating popular choices or staples among receivers. It also uncovers lesser claimed items that may need better promotion or distribution adjustment. This helps identify mismatches between supply and demand at the item level."
   ]
  },
  {
   "cell_type": "markdown",
   "metadata": {
    "id": "rFu4xreNphqO"
   },
   "source": [
    "##### 3. Will the gained insights help creating a positive business impact?\n",
    "Are there any insights that lead to negative growth? Justify with specific reason."
   ]
  },
  {
   "cell_type": "markdown",
   "metadata": {
    "id": "ey_0qi68phqO"
   },
   "source": [
    "With these insights, organizers can optimize inventory by prioritizing high-demand items for collection and distribution. It informs procurement and donation strategies to align with receiver preferences, reducing wastage. Additionally, it supports targeted outreach to increase claims on underutilized food items."
   ]
  },
  {
   "cell_type": "markdown",
   "metadata": {
    "id": "YJ55k-q6phqO"
   },
   "source": [
    "#### Question - 9\n",
    "Which provider has had the highest number of successful food claims?"
   ]
  },
  {
   "cell_type": "code",
   "execution_count": 39,
   "metadata": {
    "id": "B2aS4O1ophqO"
   },
   "outputs": [
    {
     "data": {
      "text/html": [
       "<div>\n",
       "<style scoped>\n",
       "    .dataframe tbody tr th:only-of-type {\n",
       "        vertical-align: middle;\n",
       "    }\n",
       "\n",
       "    .dataframe tbody tr th {\n",
       "        vertical-align: top;\n",
       "    }\n",
       "\n",
       "    .dataframe thead th {\n",
       "        text-align: right;\n",
       "    }\n",
       "</style>\n",
       "<table border=\"1\" class=\"dataframe\">\n",
       "  <thead>\n",
       "    <tr style=\"text-align: right;\">\n",
       "      <th></th>\n",
       "      <th>Provider_Name</th>\n",
       "      <th>Successful_Claims</th>\n",
       "    </tr>\n",
       "  </thead>\n",
       "  <tbody>\n",
       "    <tr>\n",
       "      <th>0</th>\n",
       "      <td>Barry Group</td>\n",
       "      <td>5</td>\n",
       "    </tr>\n",
       "    <tr>\n",
       "      <th>1</th>\n",
       "      <td>Miller Inc</td>\n",
       "      <td>4</td>\n",
       "    </tr>\n",
       "    <tr>\n",
       "      <th>2</th>\n",
       "      <td>Harper, Blake and Alexander</td>\n",
       "      <td>4</td>\n",
       "    </tr>\n",
       "    <tr>\n",
       "      <th>3</th>\n",
       "      <td>Butler-Richardson</td>\n",
       "      <td>4</td>\n",
       "    </tr>\n",
       "    <tr>\n",
       "      <th>4</th>\n",
       "      <td>Barnes, Castro and Curtis</td>\n",
       "      <td>4</td>\n",
       "    </tr>\n",
       "    <tr>\n",
       "      <th>5</th>\n",
       "      <td>Rogers-Warren</td>\n",
       "      <td>3</td>\n",
       "    </tr>\n",
       "    <tr>\n",
       "      <th>6</th>\n",
       "      <td>Nelson LLC</td>\n",
       "      <td>3</td>\n",
       "    </tr>\n",
       "    <tr>\n",
       "      <th>7</th>\n",
       "      <td>Moore-Flowers</td>\n",
       "      <td>3</td>\n",
       "    </tr>\n",
       "    <tr>\n",
       "      <th>8</th>\n",
       "      <td>Mckinney Ltd</td>\n",
       "      <td>3</td>\n",
       "    </tr>\n",
       "    <tr>\n",
       "      <th>9</th>\n",
       "      <td>Hancock-Jackson</td>\n",
       "      <td>3</td>\n",
       "    </tr>\n",
       "  </tbody>\n",
       "</table>\n",
       "</div>"
      ],
      "text/plain": [
       "                 Provider_Name  Successful_Claims\n",
       "0                  Barry Group                  5\n",
       "1                   Miller Inc                  4\n",
       "2  Harper, Blake and Alexander                  4\n",
       "3            Butler-Richardson                  4\n",
       "4    Barnes, Castro and Curtis                  4\n",
       "5                Rogers-Warren                  3\n",
       "6                   Nelson LLC                  3\n",
       "7                Moore-Flowers                  3\n",
       "8                 Mckinney Ltd                  3\n",
       "9              Hancock-Jackson                  3"
      ]
     },
     "execution_count": 39,
     "metadata": {},
     "output_type": "execute_result"
    }
   ],
   "source": [
    "query = \"\"\"\n",
    "SELECT p.Name AS Provider_Name, COUNT(c.Claim_ID) AS Successful_Claims\n",
    "FROM Claims c\n",
    "JOIN Food_Listings f ON c.Food_ID = f.Food_ID\n",
    "JOIN Providers p ON f.Provider_ID = p.Provider_ID\n",
    "WHERE c.Status = 'Completed'\n",
    "GROUP BY p.Name\n",
    "ORDER BY Successful_Claims DESC\n",
    "LIMIT 10;\n",
    "\"\"\"\n",
    "top_providers = pd.read_sql_query(query, conn)\n",
    "top_providers\n"
   ]
  },
  {
   "cell_type": "code",
   "execution_count": 40,
   "metadata": {},
   "outputs": [
    {
     "data": {
      "image/png": "[encoded data removed]",
      "text/plain": [
       "<Figure size 1000x600 with 1 Axes>"
      ]
     },
     "metadata": {},
     "output_type": "display_data"
    }
   ],
   "source": [
    "plt.figure(figsize=(10,6))\n",
    "y = top_providers['Provider_Name']\n",
    "x = top_providers['Successful_Claims']\n",
    "\n",
    "plt.hlines(y=y, xmin=0, xmax=x, color='skyblue')\n",
    "plt.plot(x, y, \"o\", color='steelblue')\n",
    "plt.xlabel(\"Number of Successful Claims\")\n",
    "plt.ylabel(\"Provider Name\")\n",
    "plt.title(\"Top 10 Providers by Successful Food Claims\")\n",
    "plt.grid(axis='x', linestyle='--', alpha=0.7)\n",
    "plt.tight_layout()\n",
    "plt.show()\n"
   ]
  },
  {
   "cell_type": "markdown",
   "metadata": {
    "id": "gCFgpxoyphqP"
   },
   "source": [
    "##### 1. Why did you pick the specific chart?"
   ]
  },
  {
   "cell_type": "markdown",
   "metadata": {
    "id": "TVxDimi2phqP"
   },
   "source": [
    "A lollipop chart offers a fresh and minimalist alternative to traditional bar charts, making it easier to focus on exact values while maintaining readability. The combination of lines and dots directs attention to differences between providers without overwhelming the viewer. This style works well for ranking data with long labels, keeping the layout clean and uncluttered.\n",
    "\n"
   ]
  },
  {
   "cell_type": "markdown",
   "metadata": {
    "id": "OVtJsKN_phqQ"
   },
   "source": [
    "##### 2. What is/are the insight(s) found from the chart?"
   ]
  },
  {
   "cell_type": "markdown",
   "metadata": {
    "id": "ngGi97qjphqQ"
   },
   "source": [
    "The visualization highlights which providers successfully fulfill the most food claims, emphasizing their reliability and contribution to the system. It uncovers key partners driving the redistribution efforts effectively. This helps identify standout providers who could serve as benchmarks or models for others."
   ]
  },
  {
   "cell_type": "markdown",
   "metadata": {
    "id": "lssrdh5qphqQ"
   },
   "source": [
    "##### 3. Will the gained insights help creating a positive business impact?\n",
    "Are there any insights that lead to negative growth? Justify with specific reason."
   ]
  },
  {
   "cell_type": "markdown",
   "metadata": {
    "id": "tBpY5ekJphqQ"
   },
   "source": [
    "Recognizing top-performing providers enables targeted support and incentivization to maintain or boost their engagement. It informs strategic partnerships and resource allocation to scale successful models. These insights help improve overall efficiency in reducing food wastage through reliable provider networks."
   ]
  },
  {
   "cell_type": "markdown",
   "metadata": {
    "id": "U2RJ9gkRphqQ"
   },
   "source": [
    "#### Question - 10\n",
    "What percentage of food claims are completed vs. pending vs. canceled?"
   ]
  },
  {
   "cell_type": "code",
   "execution_count": 41,
   "metadata": {
    "id": "GM7a4YP4phqQ"
   },
   "outputs": [
    {
     "data": {
      "text/html": [
       "<div>\n",
       "<style scoped>\n",
       "    .dataframe tbody tr th:only-of-type {\n",
       "        vertical-align: middle;\n",
       "    }\n",
       "\n",
       "    .dataframe tbody tr th {\n",
       "        vertical-align: top;\n",
       "    }\n",
       "\n",
       "    .dataframe thead th {\n",
       "        text-align: right;\n",
       "    }\n",
       "</style>\n",
       "<table border=\"1\" class=\"dataframe\">\n",
       "  <thead>\n",
       "    <tr style=\"text-align: right;\">\n",
       "      <th></th>\n",
       "      <th>Status</th>\n",
       "      <th>Count</th>\n",
       "      <th>Percentage</th>\n",
       "    </tr>\n",
       "  </thead>\n",
       "  <tbody>\n",
       "    <tr>\n",
       "      <th>0</th>\n",
       "      <td>Cancelled</td>\n",
       "      <td>336</td>\n",
       "      <td>33.6</td>\n",
       "    </tr>\n",
       "    <tr>\n",
       "      <th>1</th>\n",
       "      <td>Completed</td>\n",
       "      <td>339</td>\n",
       "      <td>33.9</td>\n",
       "    </tr>\n",
       "    <tr>\n",
       "      <th>2</th>\n",
       "      <td>Pending</td>\n",
       "      <td>325</td>\n",
       "      <td>32.5</td>\n",
       "    </tr>\n",
       "  </tbody>\n",
       "</table>\n",
       "</div>"
      ],
      "text/plain": [
       "      Status  Count  Percentage\n",
       "0  Cancelled    336        33.6\n",
       "1  Completed    339        33.9\n",
       "2    Pending    325        32.5"
      ]
     },
     "execution_count": 41,
     "metadata": {},
     "output_type": "execute_result"
    }
   ],
   "source": [
    "query = \"\"\"\n",
    "SELECT Status, COUNT(*) AS Count\n",
    "FROM Claims\n",
    "GROUP BY Status;\n",
    "\"\"\"\n",
    "claim_status_counts = pd.read_sql_query(query, conn)\n",
    "\n",
    "# Calculate percentages\n",
    "total_claims = claim_status_counts['Count'].sum()\n",
    "claim_status_counts['Percentage'] = (claim_status_counts['Count'] / total_claims) * 100\n",
    "claim_status_counts\n"
   ]
  },
  {
   "cell_type": "code",
   "execution_count": 42,
   "metadata": {},
   "outputs": [
    {
     "data": {
      "image/png": "[encoded data removed]",
      "text/plain": [
       "<Figure size 700x700 with 1 Axes>"
      ]
     },
     "metadata": {},
     "output_type": "display_data"
    }
   ],
   "source": [
    "plt.figure(figsize=(7,7))\n",
    "plt.pie(\n",
    "    claim_status_counts['Count'],\n",
    "    labels=claim_status_counts['Status'],\n",
    "    autopct='%1.1f%%',\n",
    "    colors=plt.cm.Set3.colors,\n",
    "    startangle=140\n",
    ")\n",
    "plt.title('Percentage of Food Claims by Status')\n",
    "plt.axis('equal')\n",
    "plt.show()\n"
   ]
  },
  {
   "cell_type": "markdown",
   "metadata": {
    "id": "1M8mcRywphqQ"
   },
   "source": [
    "##### 1. Why did you pick the specific chart?"
   ]
  },
  {
   "cell_type": "markdown",
   "metadata": {
    "id": "8agQvks0phqQ"
   },
   "source": [
    "A pie chart is ideal for displaying percentage breakdowns of categorical data, making it easy to understand the proportion of each claim status at a glance. Its circular format visually emphasizes the share of completed, pending, and canceled claims relative to the whole. This format simplifies comparisons between categories without overwhelming detail."
   ]
  },
  {
   "cell_type": "markdown",
   "metadata": {
    "id": "tgIPom80phqQ"
   },
   "source": [
    "##### 2. What is/are the insight(s) found from the chart?"
   ]
  },
  {
   "cell_type": "markdown",
   "metadata": {
    "id": "Qp13pnNzphqQ"
   },
   "source": [
    "The chart reveals the balance between completed, pending, and canceled claims, highlighting potential bottlenecks or inefficiencies in the claim process. For example, a high percentage of pending claims might indicate delays in fulfillment. It also helps gauge overall system effectiveness in processing food claims."
   ]
  },
  {
   "cell_type": "markdown",
   "metadata": {
    "id": "JMzcOPDDphqR"
   },
   "source": [
    "##### 3. Will the gained insights help creating a positive business impact?\n",
    "Are there any insights that lead to negative growth? Justify with specific reason."
   ]
  },
  {
   "cell_type": "markdown",
   "metadata": {
    "id": "R4Ka1PC2phqR"
   },
   "source": [
    "These insights inform process improvements by pinpointing where claims get stuck or canceled, allowing targeted interventions to speed up completion rates. By addressing delays and reducing cancellations, the platform can enhance user satisfaction and increase the efficiency of food redistribution. This leads to better resource utilization and less food wastage."
   ]
  },
  {
   "cell_type": "markdown",
   "metadata": {},
   "source": [
    "### Analysis & Insights\n"
   ]
  },
  {
   "cell_type": "markdown",
   "metadata": {
    "id": "x-EpHcCOp1ci"
   },
   "source": [
    "#### Question - 11\n",
    " What is the average quantity of food claimed per receiver?"
   ]
  },
  {
   "cell_type": "code",
   "execution_count": 43,
   "metadata": {
    "id": "mAQTIvtqp1cj"
   },
   "outputs": [
    {
     "data": {
      "text/html": [
       "<div>\n",
       "<style scoped>\n",
       "    .dataframe tbody tr th:only-of-type {\n",
       "        vertical-align: middle;\n",
       "    }\n",
       "\n",
       "    .dataframe tbody tr th {\n",
       "        vertical-align: top;\n",
       "    }\n",
       "\n",
       "    .dataframe thead th {\n",
       "        text-align: right;\n",
       "    }\n",
       "</style>\n",
       "<table border=\"1\" class=\"dataframe\">\n",
       "  <thead>\n",
       "    <tr style=\"text-align: right;\">\n",
       "      <th></th>\n",
       "      <th>Receiver_Name</th>\n",
       "      <th>Avg_Quantity_Claimed</th>\n",
       "    </tr>\n",
       "  </thead>\n",
       "  <tbody>\n",
       "    <tr>\n",
       "      <th>0</th>\n",
       "      <td>Thomas Villanueva</td>\n",
       "      <td>50.0</td>\n",
       "    </tr>\n",
       "    <tr>\n",
       "      <th>1</th>\n",
       "      <td>Peggy Knight</td>\n",
       "      <td>50.0</td>\n",
       "    </tr>\n",
       "    <tr>\n",
       "      <th>2</th>\n",
       "      <td>Nancy Silva</td>\n",
       "      <td>50.0</td>\n",
       "    </tr>\n",
       "    <tr>\n",
       "      <th>3</th>\n",
       "      <td>Nancy Jones</td>\n",
       "      <td>50.0</td>\n",
       "    </tr>\n",
       "    <tr>\n",
       "      <th>4</th>\n",
       "      <td>Lisa Pitts</td>\n",
       "      <td>50.0</td>\n",
       "    </tr>\n",
       "    <tr>\n",
       "      <th>5</th>\n",
       "      <td>Daniel Williams</td>\n",
       "      <td>50.0</td>\n",
       "    </tr>\n",
       "    <tr>\n",
       "      <th>6</th>\n",
       "      <td>Christopher Wright</td>\n",
       "      <td>50.0</td>\n",
       "    </tr>\n",
       "    <tr>\n",
       "      <th>7</th>\n",
       "      <td>Timothy Patel DVM</td>\n",
       "      <td>49.0</td>\n",
       "    </tr>\n",
       "    <tr>\n",
       "      <th>8</th>\n",
       "      <td>Scott Brown</td>\n",
       "      <td>49.0</td>\n",
       "    </tr>\n",
       "    <tr>\n",
       "      <th>9</th>\n",
       "      <td>Melissa Little</td>\n",
       "      <td>49.0</td>\n",
       "    </tr>\n",
       "  </tbody>\n",
       "</table>\n",
       "</div>"
      ],
      "text/plain": [
       "        Receiver_Name  Avg_Quantity_Claimed\n",
       "0   Thomas Villanueva                  50.0\n",
       "1        Peggy Knight                  50.0\n",
       "2         Nancy Silva                  50.0\n",
       "3         Nancy Jones                  50.0\n",
       "4          Lisa Pitts                  50.0\n",
       "5     Daniel Williams                  50.0\n",
       "6  Christopher Wright                  50.0\n",
       "7   Timothy Patel DVM                  49.0\n",
       "8         Scott Brown                  49.0\n",
       "9      Melissa Little                  49.0"
      ]
     },
     "execution_count": 43,
     "metadata": {},
     "output_type": "execute_result"
    }
   ],
   "source": [
    "query = \"\"\"\n",
    "SELECT r.Name AS Receiver_Name, \n",
    "       AVG(f.Quantity) AS Avg_Quantity_Claimed\n",
    "FROM Claims c\n",
    "JOIN Receivers r ON c.Receiver_ID = r.Receiver_ID\n",
    "JOIN Food_Listings f ON c.Food_ID = f.Food_ID\n",
    "GROUP BY r.Name\n",
    "ORDER BY Avg_Quantity_Claimed DESC\n",
    "LIMIT 10;\n",
    "\"\"\"\n",
    "avg_quantity_per_receiver = pd.read_sql_query(query, conn)\n",
    "avg_quantity_per_receiver\n"
   ]
  },
  {
   "cell_type": "code",
   "execution_count": 45,
   "metadata": {},
   "outputs": [
    {
     "data": {
      "image/png": "[encoded data removed]",
      "text/plain": [
       "<Figure size 1000x600 with 1 Axes>"
      ]
     },
     "metadata": {},
     "output_type": "display_data"
    }
   ],
   "source": [
    "plt.figure(figsize=(10,6))\n",
    "x = avg_quantity_per_receiver['Receiver_Name']\n",
    "y = avg_quantity_per_receiver['Avg_Quantity_Claimed']\n",
    "\n",
    "plt.vlines(x=x, ymin=0, ymax=y, color='skyblue')\n",
    "plt.plot(x, y, \"o\", color='steelblue')\n",
    "plt.xticks(rotation=45, ha='right')\n",
    "plt.ylabel(\"Average Quantity Claimed\")\n",
    "plt.xlabel(\"Receiver Name\")\n",
    "plt.title(\"Top 10 Receivers by Average Quantity of Food Claimed\")\n",
    "plt.grid(axis='y', linestyle='--', alpha=0.7)\n",
    "plt.tight_layout()\n",
    "plt.show()\n"
   ]
  },
  {
   "cell_type": "markdown",
   "metadata": {
    "id": "X_VqEhTip1ck"
   },
   "source": [
    "##### 1. Why did you pick the specific chart?"
   ]
  },
  {
   "cell_type": "markdown",
   "metadata": {
    "id": "-vsMzt_np1ck"
   },
   "source": [
    "The vertical lollipop chart offers a clean and visually engaging alternative to traditional bar charts, making it easier to focus on each receiver’s average claim quantity. Its minimalistic design reduces clutter and handles long labels well by rotating them. This format highlights the magnitude differences clearly while keeping the chart simple."
   ]
  },
  {
   "cell_type": "markdown",
   "metadata": {
    "id": "8zGJKyg5p1ck"
   },
   "source": [
    "##### 2. What is/are the insight(s) found from the chart?"
   ]
  },
  {
   "cell_type": "markdown",
   "metadata": {
    "id": "ZYdMsrqVp1ck"
   },
   "source": [
    "The chart reveals which receivers tend to claim larger quantities on average, pointing to those with potentially higher needs or larger operations. It also helps identify receivers with smaller average claims, indicating varied consumption or capacity levels. These patterns inform understanding of receiver behavior.\n"
   ]
  },
  {
   "cell_type": "markdown",
   "metadata": {
    "id": "PVzmfK_Ep1ck"
   },
   "source": [
    "##### 3. Will the gained insights help creating a positive business impact?\n",
    "Are there any insights that lead to negative growth? Justify with specific reason."
   ]
  },
  {
   "cell_type": "markdown",
   "metadata": {
    "id": "druuKYZpp1ck"
   },
   "source": [
    "By knowing average claim sizes, organizers can better allocate resources and tailor food distribution to receiver capacity, reducing waste and improving efficiency. It supports strategic planning for scaling food donations to meet receiver demand. Ultimately, this leads to more effective and targeted food redistribution.\n"
   ]
  },
  {
   "cell_type": "markdown",
   "metadata": {
    "id": "n3dbpmDWp1ck"
   },
   "source": [
    "#### Question - 12\n",
    " Which meal type (breakfast, lunch, dinner, snacks) is claimed the most?"
   ]
  },
  {
   "cell_type": "code",
   "execution_count": 46,
   "metadata": {
    "id": "bwevp1tKp1ck"
   },
   "outputs": [
    {
     "data": {
      "text/html": [
       "<div>\n",
       "<style scoped>\n",
       "    .dataframe tbody tr th:only-of-type {\n",
       "        vertical-align: middle;\n",
       "    }\n",
       "\n",
       "    .dataframe tbody tr th {\n",
       "        vertical-align: top;\n",
       "    }\n",
       "\n",
       "    .dataframe thead th {\n",
       "        text-align: right;\n",
       "    }\n",
       "</style>\n",
       "<table border=\"1\" class=\"dataframe\">\n",
       "  <thead>\n",
       "    <tr style=\"text-align: right;\">\n",
       "      <th></th>\n",
       "      <th>Meal_Type</th>\n",
       "      <th>Claim_Count</th>\n",
       "    </tr>\n",
       "  </thead>\n",
       "  <tbody>\n",
       "    <tr>\n",
       "      <th>0</th>\n",
       "      <td>Breakfast</td>\n",
       "      <td>278</td>\n",
       "    </tr>\n",
       "    <tr>\n",
       "      <th>1</th>\n",
       "      <td>Lunch</td>\n",
       "      <td>250</td>\n",
       "    </tr>\n",
       "    <tr>\n",
       "      <th>2</th>\n",
       "      <td>Snacks</td>\n",
       "      <td>240</td>\n",
       "    </tr>\n",
       "    <tr>\n",
       "      <th>3</th>\n",
       "      <td>Dinner</td>\n",
       "      <td>232</td>\n",
       "    </tr>\n",
       "  </tbody>\n",
       "</table>\n",
       "</div>"
      ],
      "text/plain": [
       "   Meal_Type  Claim_Count\n",
       "0  Breakfast          278\n",
       "1      Lunch          250\n",
       "2     Snacks          240\n",
       "3     Dinner          232"
      ]
     },
     "execution_count": 46,
     "metadata": {},
     "output_type": "execute_result"
    }
   ],
   "source": [
    "query = \"\"\"\n",
    "SELECT f.Meal_Type, COUNT(c.Claim_ID) AS Claim_Count\n",
    "FROM Claims c\n",
    "JOIN Food_Listings f ON c.Food_ID = f.Food_ID\n",
    "GROUP BY f.Meal_Type\n",
    "ORDER BY Claim_Count DESC;\n",
    "\"\"\"\n",
    "meal_claims = pd.read_sql_query(query, conn)\n",
    "meal_claims\n"
   ]
  },
  {
   "cell_type": "code",
   "execution_count": 47,
   "metadata": {},
   "outputs": [
    {
     "data": {
      "image/png": "[encoded data removed]",
      "text/plain": [
       "<Figure size 700x700 with 1 Axes>"
      ]
     },
     "metadata": {},
     "output_type": "display_data"
    }
   ],
   "source": [
    "plt.figure(figsize=(7,7))\n",
    "plt.pie(\n",
    "    meal_claims['Claim_Count'],\n",
    "    labels=meal_claims['Meal_Type'],\n",
    "    autopct='%1.1f%%',\n",
    "    colors=plt.cm.Set2.colors,\n",
    "    startangle=140\n",
    ")\n",
    "plt.title('Distribution of Food Claims by Meal Type')\n",
    "plt.axis('equal')  # Equal aspect ratio for a circle\n",
    "plt.show()\n"
   ]
  },
  {
   "cell_type": "markdown",
   "metadata": {
    "id": "ylSl6qgtp1ck"
   },
   "source": [
    "##### 1. Why did you pick the specific chart?"
   ]
  },
  {
   "cell_type": "markdown",
   "metadata": {
    "id": "m2xqNkiQp1ck"
   },
   "source": [
    "A pie chart effectively illustrates the proportion of claims by meal type, making it easy to see which meals dominate demand at a glance. Its visual simplicity helps communicate relative sizes without overwhelming detail. This chart is well-suited for categorical data with a few distinct groups."
   ]
  },
  {
   "cell_type": "markdown",
   "metadata": {
    "id": "ZWILFDl5p1ck"
   },
   "source": [
    "##### 2. What is/are the insight(s) found from the chart?"
   ]
  },
  {
   "cell_type": "markdown",
   "metadata": {
    "id": "x-lUsV2mp1ck"
   },
   "source": [
    "The chart shows which meal types—breakfast, lunch, dinner, or snacks—are most frequently claimed, revealing preferences or needs among receivers. It helps identify whether any meal type is underserved or overly abundant in the donation process."
   ]
  },
  {
   "cell_type": "markdown",
   "metadata": {
    "id": "M7G43BXep1ck"
   },
   "source": [
    "##### 3. Will the gained insights help creating a positive business impact?\n",
    "Are there any insights that lead to negative growth? Justify with specific reason."
   ]
  },
  {
   "cell_type": "markdown",
   "metadata": {
    "id": "5wwDJXsLp1cl"
   },
   "source": [
    "These insights guide better meal planning and distribution strategies by focusing resources on the most claimed meal types. Adjusting food collection and delivery based on meal demand reduces waste and improves satisfaction among recipients. This alignment enhances the efficiency of the food redistribution network."
   ]
  },
  {
   "cell_type": "markdown",
   "metadata": {
    "id": "Ag9LCva-p1cl"
   },
   "source": [
    "#### Question - 13\n",
    "What is the total quantity of food donated by each provider?"
   ]
  },
  {
   "cell_type": "code",
   "execution_count": 48,
   "metadata": {
    "id": "EUfxeq9-p1cl"
   },
   "outputs": [
    {
     "data": {
      "text/html": [
       "<div>\n",
       "<style scoped>\n",
       "    .dataframe tbody tr th:only-of-type {\n",
       "        vertical-align: middle;\n",
       "    }\n",
       "\n",
       "    .dataframe tbody tr th {\n",
       "        vertical-align: top;\n",
       "    }\n",
       "\n",
       "    .dataframe thead th {\n",
       "        text-align: right;\n",
       "    }\n",
       "</style>\n",
       "<table border=\"1\" class=\"dataframe\">\n",
       "  <thead>\n",
       "    <tr style=\"text-align: right;\">\n",
       "      <th></th>\n",
       "      <th>Provider_Name</th>\n",
       "      <th>Total_Quantity_Donated</th>\n",
       "    </tr>\n",
       "  </thead>\n",
       "  <tbody>\n",
       "    <tr>\n",
       "      <th>0</th>\n",
       "      <td>Miller Inc</td>\n",
       "      <td>217</td>\n",
       "    </tr>\n",
       "    <tr>\n",
       "      <th>1</th>\n",
       "      <td>Barry Group</td>\n",
       "      <td>179</td>\n",
       "    </tr>\n",
       "    <tr>\n",
       "      <th>2</th>\n",
       "      <td>Evans, Wright and Mitchell</td>\n",
       "      <td>158</td>\n",
       "    </tr>\n",
       "    <tr>\n",
       "      <th>3</th>\n",
       "      <td>Smith Group</td>\n",
       "      <td>150</td>\n",
       "    </tr>\n",
       "    <tr>\n",
       "      <th>4</th>\n",
       "      <td>Campbell LLC</td>\n",
       "      <td>145</td>\n",
       "    </tr>\n",
       "    <tr>\n",
       "      <th>5</th>\n",
       "      <td>Nelson LLC</td>\n",
       "      <td>142</td>\n",
       "    </tr>\n",
       "    <tr>\n",
       "      <th>6</th>\n",
       "      <td>Ruiz-Oneal</td>\n",
       "      <td>140</td>\n",
       "    </tr>\n",
       "    <tr>\n",
       "      <th>7</th>\n",
       "      <td>Blankenship-Lewis</td>\n",
       "      <td>124</td>\n",
       "    </tr>\n",
       "    <tr>\n",
       "      <th>8</th>\n",
       "      <td>Kelly-Ware</td>\n",
       "      <td>123</td>\n",
       "    </tr>\n",
       "    <tr>\n",
       "      <th>9</th>\n",
       "      <td>Bradford-Martinez</td>\n",
       "      <td>121</td>\n",
       "    </tr>\n",
       "  </tbody>\n",
       "</table>\n",
       "</div>"
      ],
      "text/plain": [
       "                Provider_Name  Total_Quantity_Donated\n",
       "0                  Miller Inc                     217\n",
       "1                 Barry Group                     179\n",
       "2  Evans, Wright and Mitchell                     158\n",
       "3                 Smith Group                     150\n",
       "4                Campbell LLC                     145\n",
       "5                  Nelson LLC                     142\n",
       "6                  Ruiz-Oneal                     140\n",
       "7           Blankenship-Lewis                     124\n",
       "8                  Kelly-Ware                     123\n",
       "9           Bradford-Martinez                     121"
      ]
     },
     "execution_count": 48,
     "metadata": {},
     "output_type": "execute_result"
    }
   ],
   "source": [
    "query = \"\"\"\n",
    "SELECT p.Name AS Provider_Name, SUM(f.Quantity) AS Total_Quantity_Donated\n",
    "FROM Food_Listings f\n",
    "JOIN Providers p ON f.Provider_ID = p.Provider_ID\n",
    "GROUP BY p.Name\n",
    "ORDER BY Total_Quantity_Donated DESC\n",
    "LIMIT 10;\n",
    "\"\"\"\n",
    "total_donated = pd.read_sql_query(query, conn)\n",
    "total_donated\n"
   ]
  },
  {
   "cell_type": "code",
   "execution_count": 50,
   "metadata": {},
   "outputs": [
    {
     "data": {
      "image/png": "[encoded data removed]",
      "text/plain": [
       "<Figure size 1000x600 with 1 Axes>"
      ]
     },
     "metadata": {},
     "output_type": "display_data"
    }
   ],
   "source": [
    "plt.figure(figsize=(10,6))\n",
    "sns.stripplot(\n",
    "    x='Total_Quantity_Donated',\n",
    "    y='Provider_Name',\n",
    "    data=total_donated,\n",
    "    size=8,\n",
    "    color='teal'\n",
    ")\n",
    "plt.xlabel('Total Quantity Donated')\n",
    "plt.ylabel('Provider Name')\n",
    "plt.title('Top 10 Providers by Total Quantity of Food Donated')\n",
    "plt.tight_layout()\n",
    "plt.show()\n"
   ]
  },
  {
   "cell_type": "markdown",
   "metadata": {
    "id": "E6MkPsBcp1cl"
   },
   "source": [
    "##### 1. Why did you pick the specific chart?"
   ]
  },
  {
   "cell_type": "markdown",
   "metadata": {
    "id": "V22bRsFWp1cl"
   },
   "source": [
    "A horizontal strip plot clearly displays individual providers alongside their total donated quantities, preserving label readability even with longer names. Unlike aggregated charts, it shows each provider as a distinct point, making it easy to spot differences and outliers. This format is simple yet effective for categorical data with numeric values."
   ]
  },
  {
   "cell_type": "markdown",
   "metadata": {
    "id": "2cELzS2fp1cl"
   },
   "source": [
    "##### 2. What is/are the insight(s) found from the chart?"
   ]
  },
  {
   "cell_type": "markdown",
   "metadata": {
    "id": "ozQPc2_Ip1cl"
   },
   "source": [
    "The chart highlights which providers donate the most food, as well as variations among the top contributors. It reveals if donations are clustered or spread evenly, helping identify key players and potential gaps. This insight clarifies the contribution landscape within the network."
   ]
  },
  {
   "cell_type": "markdown",
   "metadata": {
    "id": "3MPXvC8up1cl"
   },
   "source": [
    "##### 3. Will the gained insights help creating a positive business impact?\n",
    "Are there any insights that lead to negative growth? Justify with specific reason."
   ]
  },
  {
   "cell_type": "markdown",
   "metadata": {
    "id": "GL8l1tdLp1cl"
   },
   "source": [
    "By understanding donation patterns, the platform can focus engagement efforts on high-volume providers and support smaller donors to increase their contributions. It aids strategic planning for resource allocation and partnership development. This targeted approach helps optimize food redistribution and reduce wastage."
   ]
  },
  {
   "cell_type": "markdown",
   "metadata": {
    "id": "NC_X3p0fY2L0"
   },
   "source": [
    "#### Question - 14\n",
    "Which cities have the highest total quantity of food donated?"
   ]
  },
  {
   "cell_type": "code",
   "execution_count": 51,
   "metadata": {
    "id": "xyC9zolEZNRQ"
   },
   "outputs": [
    {
     "data": {
      "text/html": [
       "<div>\n",
       "<style scoped>\n",
       "    .dataframe tbody tr th:only-of-type {\n",
       "        vertical-align: middle;\n",
       "    }\n",
       "\n",
       "    .dataframe tbody tr th {\n",
       "        vertical-align: top;\n",
       "    }\n",
       "\n",
       "    .dataframe thead th {\n",
       "        text-align: right;\n",
       "    }\n",
       "</style>\n",
       "<table border=\"1\" class=\"dataframe\">\n",
       "  <thead>\n",
       "    <tr style=\"text-align: right;\">\n",
       "      <th></th>\n",
       "      <th>City</th>\n",
       "      <th>Total_Quantity_Donated</th>\n",
       "    </tr>\n",
       "  </thead>\n",
       "  <tbody>\n",
       "    <tr>\n",
       "      <th>0</th>\n",
       "      <td>South Kathryn</td>\n",
       "      <td>179</td>\n",
       "    </tr>\n",
       "    <tr>\n",
       "      <th>1</th>\n",
       "      <td>Jonathanstad</td>\n",
       "      <td>169</td>\n",
       "    </tr>\n",
       "    <tr>\n",
       "      <th>2</th>\n",
       "      <td>New Carol</td>\n",
       "      <td>167</td>\n",
       "    </tr>\n",
       "    <tr>\n",
       "      <th>3</th>\n",
       "      <td>North Keith</td>\n",
       "      <td>158</td>\n",
       "    </tr>\n",
       "    <tr>\n",
       "      <th>4</th>\n",
       "      <td>Jimmyberg</td>\n",
       "      <td>150</td>\n",
       "    </tr>\n",
       "    <tr>\n",
       "      <th>5</th>\n",
       "      <td>Lake Andrewmouth</td>\n",
       "      <td>142</td>\n",
       "    </tr>\n",
       "    <tr>\n",
       "      <th>6</th>\n",
       "      <td>Lake Travis</td>\n",
       "      <td>140</td>\n",
       "    </tr>\n",
       "    <tr>\n",
       "      <th>7</th>\n",
       "      <td>South Christopherborough</td>\n",
       "      <td>137</td>\n",
       "    </tr>\n",
       "    <tr>\n",
       "      <th>8</th>\n",
       "      <td>Port Patrick</td>\n",
       "      <td>127</td>\n",
       "    </tr>\n",
       "    <tr>\n",
       "      <th>9</th>\n",
       "      <td>Perezport</td>\n",
       "      <td>123</td>\n",
       "    </tr>\n",
       "  </tbody>\n",
       "</table>\n",
       "</div>"
      ],
      "text/plain": [
       "                       City  Total_Quantity_Donated\n",
       "0             South Kathryn                     179\n",
       "1              Jonathanstad                     169\n",
       "2                 New Carol                     167\n",
       "3               North Keith                     158\n",
       "4                 Jimmyberg                     150\n",
       "5          Lake Andrewmouth                     142\n",
       "6               Lake Travis                     140\n",
       "7  South Christopherborough                     137\n",
       "8              Port Patrick                     127\n",
       "9                 Perezport                     123"
      ]
     },
     "execution_count": 51,
     "metadata": {},
     "output_type": "execute_result"
    }
   ],
   "source": [
    "query = \"\"\"\n",
    "SELECT Location AS City, SUM(Quantity) AS Total_Quantity_Donated\n",
    "FROM Food_Listings\n",
    "GROUP BY Location\n",
    "ORDER BY Total_Quantity_Donated DESC\n",
    "LIMIT 10;\n",
    "\"\"\"\n",
    "top_cities_donations = pd.read_sql_query(query, conn)\n",
    "top_cities_donations\n"
   ]
  },
  {
   "cell_type": "code",
   "execution_count": 53,
   "metadata": {},
   "outputs": [
    {
     "data": {
      "image/png": "[encoded data removed]",
      "text/plain": [
       "<Figure size 1000x600 with 1 Axes>"
      ]
     },
     "metadata": {},
     "output_type": "display_data"
    }
   ],
   "source": [
    "plt.figure(figsize=(10,6))\n",
    "plt.scatter(\n",
    "    top_cities_donations['Total_Quantity_Donated'],\n",
    "    top_cities_donations['City'],\n",
    "    color='mediumseagreen',\n",
    "    s=100\n",
    ")\n",
    "plt.xlabel('Total Quantity Donated')\n",
    "plt.ylabel('City')\n",
    "plt.title('Top 10 Cities by Total Quantity of Food Donated')\n",
    "plt.grid(axis='x', linestyle='--', alpha=0.7)\n",
    "plt.tight_layout()\n",
    "plt.show()\n"
   ]
  },
  {
   "cell_type": "markdown",
   "metadata": {
    "id": "UV0SzAkaZNRQ"
   },
   "source": [
    "##### 1. Why did you pick the specific chart?"
   ]
  },
  {
   "cell_type": "markdown",
   "metadata": {
    "id": "DVPuT8LYZNRQ"
   },
   "source": [
    "A horizontal dot plot offers a clean and straightforward way to visualize quantities associated with categorical labels, preserving clarity even with longer city names. It avoids the visual bulk of bars while clearly showing the magnitude of donations. This makes it easy to compare cities at a glance."
   ]
  },
  {
   "cell_type": "markdown",
   "metadata": {
    "id": "YPEH6qLeZNRQ"
   },
   "source": [
    "##### 2. What is/are the insight(s) found from the chart?"
   ]
  },
  {
   "cell_type": "markdown",
   "metadata": {
    "id": "bfSqtnDqZNRR"
   },
   "source": [
    "The plot reveals which cities contribute the most food donations, highlighting key urban areas driving the redistribution efforts. It also shows the spread of donation volumes, indicating potential regions for targeted outreach or improvement. These insights help identify geographic hotspots of surplus food."
   ]
  },
  {
   "cell_type": "markdown",
   "metadata": {},
   "source": [
    "##### 3. Will the gained insights help creating a positive business impact?\n",
    "Are there any insights that lead to negative growth? Justify with specific reason."
   ]
  },
  {
   "cell_type": "markdown",
   "metadata": {},
   "source": [
    "Understanding city-wise donation patterns enables better logistical planning and resource allocation, focusing efforts on high-yield areas while addressing gaps in lower-performing regions. It supports strategic partnerships with local providers and NGOs to optimize food distribution networks. This leads to increased efficiency and reduced food wastage across locations."
   ]
  },
  {
   "cell_type": "markdown",
   "metadata": {
    "id": "q29F0dvdveiT"
   },
   "source": [
    "#### Question - 15 \n",
    "What are the peak times (hours) when food claims are made?"
   ]
  },
  {
   "cell_type": "code",
   "execution_count": 54,
   "metadata": {
    "id": "o58-TEIhveiU"
   },
   "outputs": [
    {
     "data": {
      "text/html": [
       "<div>\n",
       "<style scoped>\n",
       "    .dataframe tbody tr th:only-of-type {\n",
       "        vertical-align: middle;\n",
       "    }\n",
       "\n",
       "    .dataframe tbody tr th {\n",
       "        vertical-align: top;\n",
       "    }\n",
       "\n",
       "    .dataframe thead th {\n",
       "        text-align: right;\n",
       "    }\n",
       "</style>\n",
       "<table border=\"1\" class=\"dataframe\">\n",
       "  <thead>\n",
       "    <tr style=\"text-align: right;\">\n",
       "      <th></th>\n",
       "      <th>Hour</th>\n",
       "      <th>Claim_Count</th>\n",
       "    </tr>\n",
       "  </thead>\n",
       "  <tbody>\n",
       "    <tr>\n",
       "      <th>0</th>\n",
       "      <td>00</td>\n",
       "      <td>52</td>\n",
       "    </tr>\n",
       "    <tr>\n",
       "      <th>1</th>\n",
       "      <td>01</td>\n",
       "      <td>43</td>\n",
       "    </tr>\n",
       "    <tr>\n",
       "      <th>2</th>\n",
       "      <td>02</td>\n",
       "      <td>52</td>\n",
       "    </tr>\n",
       "    <tr>\n",
       "      <th>3</th>\n",
       "      <td>03</td>\n",
       "      <td>43</td>\n",
       "    </tr>\n",
       "    <tr>\n",
       "      <th>4</th>\n",
       "      <td>04</td>\n",
       "      <td>42</td>\n",
       "    </tr>\n",
       "    <tr>\n",
       "      <th>5</th>\n",
       "      <td>05</td>\n",
       "      <td>42</td>\n",
       "    </tr>\n",
       "    <tr>\n",
       "      <th>6</th>\n",
       "      <td>06</td>\n",
       "      <td>47</td>\n",
       "    </tr>\n",
       "    <tr>\n",
       "      <th>7</th>\n",
       "      <td>07</td>\n",
       "      <td>40</td>\n",
       "    </tr>\n",
       "    <tr>\n",
       "      <th>8</th>\n",
       "      <td>08</td>\n",
       "      <td>33</td>\n",
       "    </tr>\n",
       "    <tr>\n",
       "      <th>9</th>\n",
       "      <td>09</td>\n",
       "      <td>50</td>\n",
       "    </tr>\n",
       "    <tr>\n",
       "      <th>10</th>\n",
       "      <td>10</td>\n",
       "      <td>37</td>\n",
       "    </tr>\n",
       "    <tr>\n",
       "      <th>11</th>\n",
       "      <td>11</td>\n",
       "      <td>36</td>\n",
       "    </tr>\n",
       "    <tr>\n",
       "      <th>12</th>\n",
       "      <td>12</td>\n",
       "      <td>41</td>\n",
       "    </tr>\n",
       "    <tr>\n",
       "      <th>13</th>\n",
       "      <td>13</td>\n",
       "      <td>57</td>\n",
       "    </tr>\n",
       "    <tr>\n",
       "      <th>14</th>\n",
       "      <td>14</td>\n",
       "      <td>27</td>\n",
       "    </tr>\n",
       "    <tr>\n",
       "      <th>15</th>\n",
       "      <td>15</td>\n",
       "      <td>52</td>\n",
       "    </tr>\n",
       "    <tr>\n",
       "      <th>16</th>\n",
       "      <td>16</td>\n",
       "      <td>39</td>\n",
       "    </tr>\n",
       "    <tr>\n",
       "      <th>17</th>\n",
       "      <td>17</td>\n",
       "      <td>33</td>\n",
       "    </tr>\n",
       "    <tr>\n",
       "      <th>18</th>\n",
       "      <td>18</td>\n",
       "      <td>37</td>\n",
       "    </tr>\n",
       "    <tr>\n",
       "      <th>19</th>\n",
       "      <td>19</td>\n",
       "      <td>38</td>\n",
       "    </tr>\n",
       "    <tr>\n",
       "      <th>20</th>\n",
       "      <td>20</td>\n",
       "      <td>31</td>\n",
       "    </tr>\n",
       "    <tr>\n",
       "      <th>21</th>\n",
       "      <td>21</td>\n",
       "      <td>49</td>\n",
       "    </tr>\n",
       "    <tr>\n",
       "      <th>22</th>\n",
       "      <td>22</td>\n",
       "      <td>34</td>\n",
       "    </tr>\n",
       "    <tr>\n",
       "      <th>23</th>\n",
       "      <td>23</td>\n",
       "      <td>45</td>\n",
       "    </tr>\n",
       "  </tbody>\n",
       "</table>\n",
       "</div>"
      ],
      "text/plain": [
       "   Hour  Claim_Count\n",
       "0    00           52\n",
       "1    01           43\n",
       "2    02           52\n",
       "3    03           43\n",
       "4    04           42\n",
       "5    05           42\n",
       "6    06           47\n",
       "7    07           40\n",
       "8    08           33\n",
       "9    09           50\n",
       "10   10           37\n",
       "11   11           36\n",
       "12   12           41\n",
       "13   13           57\n",
       "14   14           27\n",
       "15   15           52\n",
       "16   16           39\n",
       "17   17           33\n",
       "18   18           37\n",
       "19   19           38\n",
       "20   20           31\n",
       "21   21           49\n",
       "22   22           34\n",
       "23   23           45"
      ]
     },
     "execution_count": 54,
     "metadata": {},
     "output_type": "execute_result"
    }
   ],
   "source": [
    "query = \"\"\"\n",
    "SELECT strftime('%H', Timestamp) AS Hour, COUNT(Claim_ID) AS Claim_Count\n",
    "FROM Claims\n",
    "GROUP BY Hour\n",
    "ORDER BY Hour;\n",
    "\"\"\"\n",
    "claims_by_hour = pd.read_sql_query(query, conn)\n",
    "claims_by_hour\n"
   ]
  },
  {
   "cell_type": "code",
   "execution_count": 55,
   "metadata": {},
   "outputs": [
    {
     "data": {
      "image/png": "[encoded data removed]",
      "text/plain": [
       "<Figure size 1000x500 with 1 Axes>"
      ]
     },
     "metadata": {},
     "output_type": "display_data"
    }
   ],
   "source": [
    "plt.figure(figsize=(10,5))\n",
    "plt.plot(\n",
    "    claims_by_hour['Hour'],\n",
    "    claims_by_hour['Claim_Count'],\n",
    "    marker='o',\n",
    "    color='mediumslateblue'\n",
    ")\n",
    "plt.xlabel('Hour of Day (24-hour format)')\n",
    "plt.ylabel('Number of Claims')\n",
    "plt.title('Food Claims by Hour of the Day')\n",
    "plt.grid(True, linestyle='--', alpha=0.6)\n",
    "plt.tight_layout()\n",
    "plt.show()\n"
   ]
  },
  {
   "cell_type": "markdown",
   "metadata": {
    "id": "EXh0U9oCveiU"
   },
   "source": [
    "##### 1. Why did you pick the specific chart?"
   ]
  },
  {
   "cell_type": "markdown",
   "metadata": {
    "id": "eMmPjTByveiU"
   },
   "source": [
    "A line chart is ideal for showing trends over a continuous variable like time, making it easy to observe how food claims fluctuate hour by hour throughout the day. The connected points highlight peaks and troughs, helping visualize patterns clearly. It’s straightforward and intuitive for time-series data."
   ]
  },
  {
   "cell_type": "markdown",
   "metadata": {
    "id": "22aHeOlLveiV"
   },
   "source": [
    "##### 2. What is/are the insight(s) found from the chart?"
   ]
  },
  {
   "cell_type": "markdown",
   "metadata": {
    "id": "uPQ8RGwHveiV"
   },
   "source": [
    "The chart reveals peak hours when most food claims are made, indicating when demand is highest. It also identifies quieter periods, suggesting times when the system is underutilized. This pattern helps understand user behavior related to food claiming times."
   ]
  },
  {
   "cell_type": "markdown",
   "metadata": {},
   "source": [
    "##### 3. Will the gained insights help creating a positive business impact?\n",
    "Are there any insights that lead to negative growth? Justify with specific reason."
   ]
  },
  {
   "cell_type": "markdown",
   "metadata": {},
   "source": [
    "Knowing peak claim hours enables better scheduling of food availability and volunteer or staff shifts to match demand, improving efficiency. It supports resource planning to ensure food is distributed when needed most, reducing waste and maximizing impact. This targeted timing boosts the platform’s responsiveness and user satisfaction."
   ]
  },
  {
   "cell_type": "markdown",
   "metadata": {
    "id": "JcMwzZxoAimU"
   },
   "source": [
    "## **5. Solution to Business Objective**"
   ]
  },
  {
   "cell_type": "markdown",
   "metadata": {
    "id": "8G2x9gOozGDZ"
   },
   "source": [
    "#### What do you suggest the client to achieve Business Objective ?\n",
    "Explain Briefly."
   ]
  },
  {
   "cell_type": "markdown",
   "metadata": {
    "id": "pASKb0qOza21"
   },
   "source": [
    "To achieve the business objective of reducing local food wastage while effectively connecting surplus food providers with those in need, I’d recommend the client focus on building a seamless, user-friendly platform that encourages active participation from all stakeholders—restaurants, individuals, NGOs, and receivers. This means not just listing surplus food but also ensuring timely claims and pickups, supported by real-time availability updates and location-based filtering. Leveraging the data insights from the SQL analysis—like identifying high-contribution providers, peak claim times, and regions with unmet demand—can help optimize resource allocation and targeted outreach efforts.\r\n",
    "\r\n",
    "Additionally, integrating features such as automated notifications for expiring food items and encouraging providers to donate earlier can significantly reduce wastage. Regularly analyzing claim patterns and food expiry trends will empower the client to anticipate demand and tailor distribution strategies accordingly. Ultimately, this data-driven approach combined with a simple interface will foster trust and efficiency, making the system reliable and scalable for long-term social impact.\r\n"
   ]
  },
  {
   "cell_type": "markdown",
   "metadata": {
    "id": "gCX9965dhzqZ"
   },
   "source": [
    "# **Conclusion**"
   ]
  },
  {
   "cell_type": "markdown",
   "metadata": {
    "id": "Fjb1IsQkh3yE"
   },
   "source": [
    "In this project, we developed a Local Food Wastage Management System aimed at minimizing food waste by connecting surplus food providers with those in need. We began by loading and exploring multiple datasets related to providers, receivers, food listings and claims. After thorough data wrangling to ensure consistency and accuracy, we created a robust SQL database with four key tables to efficiently store and manage the data. Implementing CRUD operations allowed dynamic interaction with the database, supporting real-time updates, additions, and deletions.\r\n",
    "\r\n",
    "Next, we performed extensive data analysis by writing and executing multiple SQL queries to extract meaningful insights about food donations, claims, provider contributions, and wastage patterns. These queries were complemented with a variety of visualizations—bar charts, dot plots, line charts, and more—to effectively communicate trends and key findings. Finally, we integrated all these components into an interactive Streamlit application that provides users with an intuitive interface to filter data, visualize insights, and manage food listings and claims seamlessly. This end-to-end solution not only facilitates efficient food redistribution but also empowers stakeholders to make data-driven decisions for reducing food wastage and promoting social good.\r\n"
   ]
  },
  {
   "cell_type": "markdown",
   "metadata": {
    "id": "gIfDvo9L0UH2"
   },
   "source": [
    "### ***Hurrah! You have successfully completed your EDA Capstone Project !!!***"
   ]
  }
 ],
 "metadata": {
  "colab": {
   "collapsed_sections": [
    "vncDsAP0Gaoa",
    "FJNUwmbgGyua",
    "w6K7xa23Elo4",
    "yQaldy8SH6Dl",
    "PH-0ReGfmX4f",
    "mDgbUHAGgjLW",
    "O_i_v8NEhb9l",
    "HhfV-JJviCcP",
    "Y3lxredqlCYt",
    "3RnN4peoiCZX",
    "x71ZqKXriCWQ",
    "7hBIi_osiCS2",
    "JlHwYmJAmNHm",
    "35m5QtbWiB9F",
    "PoPl-ycgm1ru",
    "H0kj-8xxnORC",
    "nA9Y7ga8ng1Z",
    "PBTbrJXOngz2",
    "u3PMJOP6ngxN",
    "dauF4eBmngu3",
    "bKJF3rekwFvQ",
    "MSa1f5Uengrz",
    "GF8Ens_Soomf",
    "0wOQAZs5pc--",
    "K5QZ13OEpz2H",
    "lQ7QKXXCp7Bj",
    "448CDAPjqfQr",
    "KSlN3yHqYklG",
    "t6dVpIINYklI",
    "ijmpgYnKYklI",
    "-JiQyfWJYklI",
    "EM7whBJCYoAo",
    "fge-S5ZAYoAp",
    "85gYPyotYoAp",
    "RoGjAbkUYoAp",
    "4Of9eVA-YrdM",
    "iky9q4vBYrdO",
    "F6T5p64dYrdO",
    "y-Ehk30pYrdP",
    "bamQiAODYuh1",
    "QHF8YVU7Yuh3",
    "GwzvFGzlYuh3",
    "qYpmQ266Yuh3",
    "OH-pJp9IphqM",
    "bbFf2-_FphqN",
    "_ouA3fa0phqN",
    "Seke61FWphqN",
    "PIIx-8_IphqN",
    "t27r6nlMphqO",
    "r2jJGEOYphqO",
    "b0JNsNcRphqO",
    "BZR9WyysphqO",
    "jj7wYXLtphqO",
    "eZrbJ2SmphqO",
    "rFu4xreNphqO",
    "YJ55k-q6phqO",
    "gCFgpxoyphqP",
    "OVtJsKN_phqQ",
    "lssrdh5qphqQ",
    "U2RJ9gkRphqQ",
    "1M8mcRywphqQ",
    "tgIPom80phqQ",
    "JMzcOPDDphqR",
    "x-EpHcCOp1ci",
    "X_VqEhTip1ck",
    "8zGJKyg5p1ck",
    "PVzmfK_Ep1ck",
    "n3dbpmDWp1ck",
    "ylSl6qgtp1ck",
    "ZWILFDl5p1ck",
    "M7G43BXep1ck",
    "Ag9LCva-p1cl",
    "E6MkPsBcp1cl",
    "2cELzS2fp1cl",
    "3MPXvC8up1cl",
    "NC_X3p0fY2L0",
    "UV0SzAkaZNRQ",
    "YPEH6qLeZNRQ",
    "q29F0dvdveiT",
    "EXh0U9oCveiU",
    "22aHeOlLveiV",
    "JcMwzZxoAimU",
    "8G2x9gOozGDZ",
    "gCX9965dhzqZ",
    "gIfDvo9L0UH2"
   ],
   "private_outputs": true,
   "provenance": []
  },
  "kernelspec": {
   "display_name": "anaconda-panel-2023.05-py310",
   "language": "python",
   "name": "conda-env-anaconda-panel-2023.05-py310-py"
  },
  "language_info": {
   "codemirror_mode": {
    "name": "ipython",
    "version": 3
   },
   "file_extension": ".py",
   "mimetype": "text/x-python",
   "name": "python",
   "nbconvert_exporter": "python",
   "pygments_lexer": "ipython3",
   "version": "3.11.5"
  }
 },
 "nbformat": 4,
 "nbformat_minor": 4
}
